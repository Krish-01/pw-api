{
 "cells": [
  {
   "cell_type": "code",
   "execution_count": 1,
   "metadata": {},
   "outputs": [],
   "source": [
    "import requests\n",
    "import json\n",
    "import pandas as pd\n"
   ]
  },
  {
   "attachments": {},
   "cell_type": "markdown",
   "metadata": {},
   "source": [
    "# Request course data with URL."
   ]
  },
  {
   "cell_type": "code",
   "execution_count": 2,
   "metadata": {},
   "outputs": [
    {
     "data": {
      "text/plain": [
       "<Response [200]>"
      ]
     },
     "execution_count": 2,
     "metadata": {},
     "output_type": "execute_result"
    }
   ],
   "source": [
    "url = 'https://api.pwskills.com/v1/course/63a2eb428899436daf7eb489?withAllCourseMetas=true&ignoreInActive=true'\n",
    "\n",
    "r = requests.get(url)\n",
    "r"
   ]
  },
  {
   "cell_type": "code",
   "execution_count": 3,
   "metadata": {},
   "outputs": [
    {
     "name": "stdout",
     "output_type": "stream",
     "text": [
      "Last time runs on 03 Mar, 2023.\n"
     ]
    }
   ],
   "source": [
    "from datetime import datetime\n",
    "\n",
    "print(f\"Last time runs on {datetime.now():%d %h, %Y}.\")"
   ]
  },
  {
   "attachments": {},
   "cell_type": "markdown",
   "metadata": {},
   "source": [
    "## Save/Export course data in json format."
   ]
  },
  {
   "cell_type": "code",
   "execution_count": 4,
   "metadata": {},
   "outputs": [],
   "source": [
    "if r.status_code == 200:\n",
    "    json.dump(r.json(), open('../data/courses/_course_data.json', 'w'), indent=2)\n",
    "else:\n",
    "    exit()"
   ]
  },
  {
   "cell_type": "code",
   "execution_count": 5,
   "metadata": {},
   "outputs": [
    {
     "data": {
      "text/plain": [
       "dict_keys(['_id', 'isJobGuaranteeProgram', 'isJobAssistanceProgram', 'active', 'platformType', 'tags', 'labPlans', 'title', 'description', 'mode', 'seo', 'pricing', 'batches', 'faq', 'createdAt', 'updatedAt', 'img', 'categoryId', 'classTimings', 'mobilePricing', 'videoURL', 'instructorsDetails', 'courseMetas'])"
      ]
     },
     "execution_count": 5,
     "metadata": {},
     "output_type": "execute_result"
    }
   ],
   "source": [
    "# Get data as python dictionary\n",
    "data = r.json()['data']\n",
    "data.keys()"
   ]
  },
  {
   "attachments": {},
   "cell_type": "markdown",
   "metadata": {},
   "source": [
    "# Course Overview"
   ]
  },
  {
   "cell_type": "code",
   "execution_count": 6,
   "metadata": {},
   "outputs": [
    {
     "name": "stdout",
     "output_type": "stream",
     "text": [
      "Name of Course:        Data Science masters\n",
      "Price of Course:       ₹2975\n",
      "Name of instrutors:    ['Krish Naik', 'Sudhanshu Kumar']\n",
      "Certificate Benchmark: 75%\n",
      "Language of Course:    hinglish\n",
      "Course duration:       7-8 months\n"
     ]
    }
   ],
   "source": [
    "align = 22\n",
    "\n",
    "# Title of the Course\n",
    "print('Name of Course:'.ljust(align), data['title'])\n",
    "\n",
    "# Price of the Course\n",
    "course_price = round(data['pricing']['IN'] - (data['pricing']['IN'] * data['pricing']['discount']/100))\n",
    "print('Price of Course:'.ljust(align), f'₹{course_price}')\n",
    "\n",
    "# Instructors Name\n",
    "inst_names = [i['name'] for i in data['instructorsDetails']]\n",
    "print('Name of instructors:'.ljust(align), inst_names)\n",
    "\n",
    "# Course Certificate Benchmark\n",
    "cert_bench = data['courseMetas'][0]['certificateBenchmark']\n",
    "print('Certificate Benchmark:'.ljust(align), f'{cert_bench}%')\n",
    "\n",
    "# Language of the Course\n",
    "lang = data['courseMetas'][0]['overview']['language']\n",
    "print('Language of Course:'.ljust(align), lang)\n",
    "\n",
    "# Course duration\n",
    "duration = data['courseMetas'][0]['duration']\n",
    "print('Course duration:'.ljust(align), duration)"
   ]
  },
  {
   "cell_type": "code",
   "execution_count": 7,
   "metadata": {},
   "outputs": [
    {
     "data": {
      "text/plain": [
       "dict_keys(['instructors', '_id', 'certificateBenchmark', 'courseId', 'overview', 'curriculum', 'projects', 'createdAt', 'updatedAt', '__v', 'duration'])"
      ]
     },
     "execution_count": 7,
     "metadata": {},
     "output_type": "execute_result"
    }
   ],
   "source": [
    "# Get course meta data\n",
    "meta: dict = data['courseMetas'][0]\n",
    "meta.keys()"
   ]
  },
  {
   "attachments": {},
   "cell_type": "markdown",
   "metadata": {},
   "source": [
    "## What you can learn from this course?"
   ]
  },
  {
   "cell_type": "code",
   "execution_count": 8,
   "metadata": {},
   "outputs": [
    {
     "name": "stdout",
     "output_type": "stream",
     "text": [
      "You can learn 15+ different types of topics in this course.\n",
      "  - Python\n",
      "  - Statistics\n",
      "  - Machine learning\n",
      "  - Deep learning\n",
      "  - Computer vision\n",
      "  - Natural language processing\n",
      "  - Big Data\n",
      "  - Apache Spark\n",
      "  - Apache Kafka\n",
      "  - Data Analytics\n",
      "  - PowerBI\n",
      "  - Tableau\n",
      "  - Databases\n",
      "  - Data Science Workflow\n",
      "  - Real Time Data Science Projects\n"
     ]
    }
   ],
   "source": [
    "learn = meta['overview']['learn']\n",
    "\n",
    "# print(f\"You can learn {len(learn)}+ different types of topics in this course \\\n",
    "# such as {', '.join(learn[:-1]).title()}, etc.\")\n",
    "\n",
    "print(f'You can learn {len(learn)}+ different types of topics in this course.')\n",
    "\n",
    "for i in learn:\n",
    "    print(f'  - {i}')"
   ]
  },
  {
   "attachments": {},
   "cell_type": "markdown",
   "metadata": {},
   "source": [
    "## Projects in this course?"
   ]
  },
  {
   "cell_type": "code",
   "execution_count": null,
   "metadata": {},
   "outputs": [],
   "source": [
    "projects = meta['projects']"
   ]
  },
  {
   "cell_type": "code",
   "execution_count": null,
   "metadata": {},
   "outputs": [],
   "source": [
    "paren_proj = (pd.DataFrame([i for i in projects if len(i) == 2])\n",
    "                .rename(columns={'_id': 'parentId', 'title': 'parentTitle'}))\n",
    "child_proj = (pd.DataFrame([i for i in projects if len(i) != 2])\n",
    "                .rename(columns={'_id': 'childId', 'parent': 'parentId', 'title': 'childTitle'}))"
   ]
  },
  {
   "cell_type": "code",
   "execution_count": null,
   "metadata": {},
   "outputs": [
    {
     "data": {
      "text/plain": [
       "(31, 4)"
      ]
     },
     "execution_count": 10,
     "metadata": {},
     "output_type": "execute_result"
    }
   ],
   "source": [
    "project_df = paren_proj.merge(child_proj, 'inner', 'parentId')\n",
    "project_df.shape"
   ]
  },
  {
   "attachments": {},
   "cell_type": "markdown",
   "metadata": {},
   "source": [
    "### Create a date column."
   ]
  },
  {
   "cell_type": "code",
   "execution_count": null,
   "metadata": {},
   "outputs": [],
   "source": [
    "project_df['date'] = project_df['childTitle'].str.extract(r\"(\\d{1,2} \\w{3,4}'23)\")"
   ]
  },
  {
   "cell_type": "code",
   "execution_count": null,
   "metadata": {},
   "outputs": [],
   "source": [
    "# Fill the null dates values\n",
    "null_date = project_df[project_df['date'].isnull() == 1]\n",
    "\n",
    "project_df.loc[null_date.index, 'date'] = null_date['parentTitle'].str.extract(r\"(\\d{1,2} \\w{3,4}'23)\")[0]"
   ]
  },
  {
   "cell_type": "code",
   "execution_count": null,
   "metadata": {},
   "outputs": [],
   "source": [
    "# Convert date column data type\n",
    "project_df['date'] = project_df['date'].astype('datetime64')"
   ]
  },
  {
   "attachments": {},
   "cell_type": "markdown",
   "metadata": {},
   "source": [
    "### Filter titles in the dataset."
   ]
  },
  {
   "cell_type": "code",
   "execution_count": null,
   "metadata": {},
   "outputs": [],
   "source": [
    "# Filter parenTitle\n",
    "project_df['parentTitle'] = (project_df['parentTitle']\n",
    " .str.replace(r\"(\\d{1,2} \\w{3,4}'23)\", '', regex=True)\n",
    " .str.replace('6 - ', '', regex=False)\n",
    " .str.replace(r'Python Project :\\s?-  ', '', regex=True)\n",
    " .str.strip())"
   ]
  },
  {
   "cell_type": "code",
   "execution_count": null,
   "metadata": {},
   "outputs": [],
   "source": [
    "# Filter childTitle\n",
    "project_df['childTitle'] = (project_df['childTitle'].str.replace(r\"(\\d{1,2} \\w{3,4}'23)\", '', regex=True)\n",
    " .str.strip())"
   ]
  },
  {
   "attachments": {},
   "cell_type": "markdown",
   "metadata": {},
   "source": [
    "### Project details."
   ]
  },
  {
   "cell_type": "code",
   "execution_count": null,
   "metadata": {},
   "outputs": [
    {
     "name": "stdout",
     "output_type": "stream",
     "text": [
      "This course has 5 different types of (parent) topics for project which are:\n",
      "  - Web Scrapping\n",
      "  - Image Scrapper\n",
      "  - ML Projects\n",
      "  - Computer Vision Projects\n",
      "  - NLP Projects\n"
     ]
    }
   ],
   "source": [
    "print(f\"This course has {project_df['parentId'].nunique()} different types of (parent) topics for project which are:\")\n",
    "\n",
    "for i in project_df['parentTitle'].unique():\n",
    "    print(f'  - {i}')"
   ]
  },
  {
   "cell_type": "code",
   "execution_count": null,
   "metadata": {},
   "outputs": [
    {
     "name": "stdout",
     "output_type": "stream",
     "text": [
      "And, there are 31 different (child) topics for project which are:\n",
      "  + Web Scrapping\n",
      "    - Web Scrapping introduction\n",
      "    - Integration With Web Portal.\n",
      "    - Integration With Rest Api, Web Portal And Mongo Db\n",
      "    - Deployment On Web Portal On AWS Cloud\n",
      "\n",
      "  + Image Scrapper\n",
      "    - Image Scrapping Introduction\n",
      "    - Image Scrapping Deployment\n",
      "    - Integration With Rest Api, Web Portal And Mongo Db\n",
      "    - Deployment On Web Portal On Azure Cloud\n",
      "\n",
      "  + ML Projects\n",
      "    - Fault detection in wafers based on sensor data.\n",
      "    - Cement strength reg.\n",
      "    - Credit card fraud.\n",
      "    - Fraud detection\n",
      "    - Income prediction\n",
      "    - Phishing classifier\n",
      "    - Visibility climate\n",
      "\n",
      "  + Computer Vision Projects\n",
      "    - Object Tracking Project\n",
      "    - Image Classification with SOTA CNNs\n",
      "    - Image to Text using OCRs\n",
      "    - Vision based Attendance System\n",
      "    - Sign Language Detection\n",
      "    - Shredder Systems\n",
      "\n",
      "  + NLP Projects\n",
      "    - Movie Review using BERT\n",
      "    - NER using BERT\n",
      "    - POS Tagging with BERT\n",
      "    - Text Generation GPT2\n",
      "    - Question Answering with SQUAD\n",
      "    - Machine Translation with Transformers\n",
      "    - Paraphrasing with BART\n",
      "    - Text2Speech\n",
      "    - Speech2Text\n",
      "    - SpellCorrector\n",
      "\n"
     ]
    }
   ],
   "source": [
    "print(f\"And, there are {project_df['childId'].nunique()} different (child) topics for project which are:\")\n",
    "\n",
    "for i in project_df['parentTitle'].unique():\n",
    "    print(f'  + {i}')\n",
    "    for _, ii, j in project_df[['parentTitle', 'childTitle']].itertuples():\n",
    "        if ii == i:\n",
    "            print(f\"    - {j}\")\n",
    "    print()"
   ]
  },
  {
   "cell_type": "code",
   "execution_count": null,
   "metadata": {},
   "outputs": [
    {
     "name": "stdout",
     "output_type": "stream",
     "text": [
      "<class 'pandas.core.frame.DataFrame'>\n",
      "Int64Index: 576 entries, 0 to 575\n",
      "Data columns (total 3 columns):\n",
      " #   Column       Non-Null Count  Dtype         \n",
      "---  ------       --------------  -----         \n",
      " 0   parentTitle  576 non-null    object        \n",
      " 1   childTitle   576 non-null    object        \n",
      " 2   date         576 non-null    datetime64[ns]\n",
      "dtypes: datetime64[ns](1), object(2)\n",
      "memory usage: 18.0+ KB\n"
     ]
    }
   ],
   "source": [
    "def get_curr_df(data) -> pd.DataFrame:\n",
    "    curr_dict: list[dict] = data['courseMetas'][0]['curriculum']\n",
    "\n",
    "    df = pd.DataFrame(curr_dict)\n",
    "\n",
    "    df = df.merge(df[['parent', 'title']],\n",
    "                  how='inner',\n",
    "                  left_on='_id',\n",
    "                  right_on='parent',\n",
    "                  suffixes=('_parent', '_child'))\n",
    "\n",
    "    # Drop columns\n",
    "    df.drop(columns=['_id', 'preview', 'parent_parent', 'parent_child'],\n",
    "            inplace=True)\n",
    "\n",
    "    # Rename columns\n",
    "    df.rename(columns={\n",
    "        'title_parent': 'parentTitle',\n",
    "        'title_child': 'childTitle'\n",
    "    }, inplace=True)\n",
    "\n",
    "    # Create date column\n",
    "    df['date'] = (df['parentTitle']\n",
    "                  .str.extract(r\"(\\d{1,2} \\w{3,5}'23)\")\n",
    "                  .astype('datetime64'))\n",
    "\n",
    "    # Remove date sub-string from parentTitle\n",
    "    df['parentTitle'] = (df['parentTitle'].str.split(n=2)\n",
    "                         .str.get(-1)\n",
    "                         .str.strip())\n",
    "\n",
    "    return df\n",
    "\n",
    "\n",
    "df = get_curr_df(data)\n",
    "df.info()\n"
   ]
  },
  {
   "cell_type": "code",
   "execution_count": null,
   "metadata": {},
   "outputs": [],
   "source": [
    "def print_curr_details(curr_df: pd.DataFrame, pat: str):\n",
    "    for i in curr_df['parentTitle'].unique():\n",
    "        if pat.lower() in i.lower():\n",
    "            # Get date\n",
    "            date = df.query('parentTitle==@i')['date'].mean()\n",
    "\n",
    "            print(f'+ {i} - {date:%d %h, %Y}')\n",
    "\n",
    "            for _, p, c in curr_df[['parentTitle', 'childTitle']].itertuples():\n",
    "                if i == p:\n",
    "                    print(f'  - {c}')"
   ]
  },
  {
   "attachments": {},
   "cell_type": "markdown",
   "metadata": {},
   "source": [
    "## Find/Get curriculum details by topics."
   ]
  },
  {
   "cell_type": "code",
   "execution_count": null,
   "metadata": {},
   "outputs": [
    {
     "name": "stdout",
     "output_type": "stream",
     "text": [
      "['PowerBI PART-2' 'PowerBI' 'Clustering' 'Feature Engineering'\n",
      " 'Neural Network A Simple Perception' 'Dimensionality Reduction'\n",
      " 'String Objects' 'Image Classification Architectures']\n",
      "\n",
      ">>> You entered: Engineering\n",
      "\n",
      "+ Feature Engineering - 19 Mar, 2023\n",
      "  - Handling Missing Data\n",
      "  - Handling Imbalanced Data\n",
      "  - Up-Sampling\n",
      "  - Down-Sampling\n",
      "  - Smote\n",
      "  - Data Interpolation\n",
      "  - Handling Outliers\n",
      "  - Filter Method\n",
      "  - Wrapper Method\n",
      "  - Embedded Methods\n",
      "  - Min-Max Scaling\n",
      "  - Unit Vector\n",
      "  - Feature Extraction\n",
      "  - Pca (Principle Component Analysis)\n",
      "  - Data Encoding\n",
      "  - Nominal Encoding\n",
      "  - One Hot Encoding\n",
      "  - Ordinal Encoding\n",
      "  - Label Encoding\n",
      "  - Target Guided Ordinal Encoding\n",
      "  - Covariance\n",
      "  - Correlation Check\n",
      "  - Pearson Correlation Coefficient\n",
      "  - Spearman’S Rank Correlation\n",
      "  -  Vif\n"
     ]
    }
   ],
   "source": [
    "# Print some title for help\n",
    "print(df['parentTitle'].sample(10).unique())\n",
    "\n",
    "\n",
    "curr_inp = input('\\nEnter the (parent) topic to see (child) topics: ')\n",
    "\n",
    "print(f'\\n>>> You entered: {curr_inp}\\n')\n",
    "print_curr_details(df, curr_inp)"
   ]
  },
  {
   "cell_type": "code",
   "execution_count": null,
   "metadata": {},
   "outputs": [],
   "source": []
  }
 ],
 "metadata": {
  "kernelspec": {
   "display_name": "Python 3",
   "language": "python",
   "name": "python3"
  },
  "language_info": {
   "codemirror_mode": {
    "name": "ipython",
    "version": 3
   },
   "file_extension": ".py",
   "mimetype": "text/x-python",
   "name": "python",
   "nbconvert_exporter": "python",
   "pygments_lexer": "ipython3",
   "version": "3.11.0"
  },
  "orig_nbformat": 4,
  "vscode": {
   "interpreter": {
    "hash": "aee8b7b246df8f9039afb4144a1f6fd8d2ca17a180786b69acc140d282b71a49"
   }
  }
 },
 "nbformat": 4,
 "nbformat_minor": 2
}
