{
 "cells": [
  {
   "cell_type": "code",
   "execution_count": null,
   "metadata": {},
   "outputs": [],
   "source": [
    "import requests\n",
    "import json\n",
    "import pandas as pd\n"
   ]
  },
  {
   "cell_type": "code",
   "execution_count": 1,
   "metadata": {},
   "outputs": [
    {
     "name": "stdout",
     "output_type": "stream",
     "text": [
      "Last time runs on 08 Mar, 2023.\n"
     ]
    }
   ],
   "source": [
    "from datetime import datetime\n",
    "\n",
    "print(f\"Last time runs on {datetime.now():%d %h, %Y}.\")"
   ]
  },
  {
   "attachments": {},
   "cell_type": "markdown",
   "metadata": {},
   "source": [
    "# Request course data with URL."
   ]
  },
  {
   "cell_type": "code",
   "execution_count": null,
   "metadata": {},
   "outputs": [],
   "source": [
    "# Select course from dict\n",
    "courses_dict: dict = json.load(open('data/courses/all_courses_dict.json'))\n",
    "courses_dict.keys()"
   ]
  },
  {
   "cell_type": "code",
   "execution_count": null,
   "metadata": {},
   "outputs": [],
   "source": [
    "def get_url(course_name: str):\n",
    "    course_id = courses_dict[course_name]\n",
    "    return f'https://api.pwskills.com/v1/course/{course_id}?withAllCourseMetas=true&ignoreInActive=true'"
   ]
  },
  {
   "cell_type": "code",
   "execution_count": null,
   "metadata": {},
   "outputs": [],
   "source": [
    "# Enter course name from courses_dict keys\n",
    "# url = get_url('Full Stack web development')\n",
    "url = get_url('Data Science masters')\n",
    "# url = get_url('Java with DSA and system design')\n",
    "\n",
    "r = requests.get(url)\n",
    "r"
   ]
  },
  {
   "attachments": {},
   "cell_type": "markdown",
   "metadata": {},
   "source": [
    "## Save/Export course data in json format."
   ]
  },
  {
   "cell_type": "code",
   "execution_count": null,
   "metadata": {},
   "outputs": [],
   "source": [
    "if r.status_code == 200:\n",
    "    # json.dump(r.json(), open('../data/courses/_course_data.json', 'w'), indent=2)\n",
    "    ...\n",
    "else:\n",
    "    raise requests.HTTPError('Response status code is not 200.')"
   ]
  },
  {
   "cell_type": "code",
   "execution_count": null,
   "metadata": {},
   "outputs": [],
   "source": [
    "# Get data as python dictionary\n",
    "data = r.json()['data']\n",
    "data.keys()"
   ]
  },
  {
   "attachments": {},
   "cell_type": "markdown",
   "metadata": {},
   "source": [
    "# Course Overview"
   ]
  },
  {
   "cell_type": "code",
   "execution_count": null,
   "metadata": {},
   "outputs": [],
   "source": [
    "align = 22\n",
    "\n",
    "# Title of the Course\n",
    "print('Name of Course:'.ljust(align), data['title'])\n",
    "\n",
    "# Price of the Course\n",
    "course_price = round(data['pricing']['IN'] - (data['pricing']['IN'] * data['pricing']['discount']/100))\n",
    "print('Price of Course:'.ljust(align), f'₹{course_price}')\n",
    "\n",
    "# Instructors Name\n",
    "inst_names = [i['name'] for i in data['instructorsDetails']]\n",
    "print('Name of instructors:'.ljust(align), inst_names)\n",
    "\n",
    "# Course Certificate Benchmark\n",
    "cert_bench = data['courseMetas'][0]['certificateBenchmark']\n",
    "print('Certificate Benchmark:'.ljust(align), f'{cert_bench}%')\n",
    "\n",
    "# Language of the Course\n",
    "lang = data['courseMetas'][0]['overview']['language']\n",
    "print('Language of Course:'.ljust(align), lang)\n",
    "\n",
    "# Course duration\n",
    "duration = data['courseMetas'][0]['duration']\n",
    "print('Course duration:'.ljust(align), duration)"
   ]
  },
  {
   "cell_type": "code",
   "execution_count": null,
   "metadata": {},
   "outputs": [],
   "source": [
    "# Get course meta data\n",
    "meta: dict = data['courseMetas'][0]\n",
    "meta.keys()"
   ]
  },
  {
   "attachments": {},
   "cell_type": "markdown",
   "metadata": {},
   "source": [
    "## What you can learn from this course?"
   ]
  },
  {
   "cell_type": "code",
   "execution_count": null,
   "metadata": {},
   "outputs": [],
   "source": [
    "learn = meta['overview']['learn']\n",
    "\n",
    "# print(f\"You can learn {len(learn)}+ different types of topics in this course \\\n",
    "# such as {', '.join(learn[:-1]).title()}, etc.\")\n",
    "\n",
    "print(f'You can learn {len(learn)}+ different types of topics in this course.')\n",
    "\n",
    "for i in learn:\n",
    "    print(f'  - {i}')"
   ]
  },
  {
   "attachments": {},
   "cell_type": "markdown",
   "metadata": {},
   "source": [
    "## Projects in this course?"
   ]
  },
  {
   "cell_type": "code",
   "execution_count": null,
   "metadata": {},
   "outputs": [],
   "source": [
    "projects = meta['projects']\n",
    "\n",
    "if not projects:\n",
    "    raise ValueError('No Projects are available in this course. Go to curriculum section.')"
   ]
  },
  {
   "attachments": {},
   "cell_type": "markdown",
   "metadata": {},
   "source": [
    "If no projects are available in this project.\n",
    "\n",
    "### Go to [Curriculum Section](#curriculum-section)"
   ]
  },
  {
   "cell_type": "code",
   "execution_count": null,
   "metadata": {},
   "outputs": [],
   "source": [
    "paren_proj = (pd.DataFrame([i for i in projects if len(i) == 2])\n",
    "                .rename(columns={'_id': 'parentId', 'title': 'parentTitle'}))\n",
    "\n",
    "child_proj = (pd.DataFrame([i for i in projects if len(i) != 2])\n",
    "                .rename(columns={'_id': 'childId', 'parent': 'parentId', 'title': 'childTitle'}))\n"
   ]
  },
  {
   "cell_type": "code",
   "execution_count": null,
   "metadata": {},
   "outputs": [],
   "source": [
    "project_df = paren_proj.merge(child_proj, 'inner', 'parentId')\n",
    "project_df.shape"
   ]
  },
  {
   "attachments": {},
   "cell_type": "markdown",
   "metadata": {},
   "source": [
    "### Create a date column."
   ]
  },
  {
   "cell_type": "code",
   "execution_count": null,
   "metadata": {},
   "outputs": [],
   "source": [
    "project_df['date'] = project_df['childTitle'].str.extract(r\"(\\d{1,2} \\w{3,4}'23)\")"
   ]
  },
  {
   "cell_type": "code",
   "execution_count": null,
   "metadata": {},
   "outputs": [],
   "source": [
    "# Fill the null dates values\n",
    "null_date = project_df[project_df['date'].isnull() == 1]\n",
    "\n",
    "project_df.loc[null_date.index, 'date'] = null_date['parentTitle'].str.extract(r\"(\\d{1,2} \\w{3,4}'23)\")[0]"
   ]
  },
  {
   "cell_type": "code",
   "execution_count": null,
   "metadata": {},
   "outputs": [],
   "source": [
    "# Convert date column data type\n",
    "project_df['date'] = project_df['date'].astype('datetime64')"
   ]
  },
  {
   "attachments": {},
   "cell_type": "markdown",
   "metadata": {},
   "source": [
    "### Filter titles in the dataset."
   ]
  },
  {
   "cell_type": "code",
   "execution_count": null,
   "metadata": {},
   "outputs": [],
   "source": [
    "# Filter parenTitle\n",
    "project_df['parentTitle'] = (project_df['parentTitle']\n",
    " .str.replace(r\"(\\d{1,2} \\w{3,4}'23)\", '', regex=True)\n",
    " .str.replace('6 - ', '', regex=False)\n",
    " .str.replace(r'Python Project :\\s?-  ', '', regex=True)\n",
    " .str.strip())"
   ]
  },
  {
   "cell_type": "code",
   "execution_count": null,
   "metadata": {},
   "outputs": [],
   "source": [
    "# Filter childTitle\n",
    "project_df['childTitle'] = (project_df['childTitle'].str.replace(r\"(\\d{1,2} \\w{3,4}'23)\", '', regex=True)\n",
    " .str.strip())"
   ]
  },
  {
   "attachments": {},
   "cell_type": "markdown",
   "metadata": {},
   "source": [
    "### Project details."
   ]
  },
  {
   "cell_type": "code",
   "execution_count": null,
   "metadata": {},
   "outputs": [],
   "source": [
    "print(f\"This course has {project_df['parentId'].nunique()} different types of (parent) topics for project which are:\")\n",
    "\n",
    "for i in project_df['parentTitle'].unique():\n",
    "    print(f'  - {i}')"
   ]
  },
  {
   "cell_type": "code",
   "execution_count": null,
   "metadata": {},
   "outputs": [],
   "source": [
    "print(f\"Also, there are {project_df['childId'].nunique()}+ different (child) topics for project which are:\")\n",
    "\n",
    "for i in project_df['parentTitle'].unique():\n",
    "    print(f'  + {i}')\n",
    "    for _, ii, j in project_df[['parentTitle', 'childTitle']].itertuples():\n",
    "        if ii == i:\n",
    "            print(f\"    - {j}\")\n",
    "    print()"
   ]
  },
  {
   "attachments": {},
   "cell_type": "markdown",
   "metadata": {},
   "source": [
    "# Curriculum Section"
   ]
  },
  {
   "cell_type": "code",
   "execution_count": null,
   "metadata": {},
   "outputs": [],
   "source": [
    "curr_dict: list[dict] = data['courseMetas'][0]['curriculum']\n",
    "df = pd.DataFrame(curr_dict)\n",
    "\n",
    "df = df.merge(df[['parent', 'title']],\n",
    "                how='inner',\n",
    "                left_on='_id',\n",
    "                right_on='parent',\n",
    "                suffixes=('_parent', '_child'))\n"
   ]
  },
  {
   "cell_type": "code",
   "execution_count": null,
   "metadata": {},
   "outputs": [],
   "source": [
    "# Drop columns\n",
    "df.drop(columns=['_id', 'preview', 'parent_parent', 'parent_child'],\n",
    "        inplace=True)\n",
    "\n",
    "# Rename columns\n",
    "df.rename(columns={\n",
    "    'title_parent': 'parentTitle',\n",
    "    'title_child': 'childTitle'\n",
    "}, inplace=True)\n"
   ]
  },
  {
   "cell_type": "code",
   "execution_count": null,
   "metadata": {},
   "outputs": [],
   "source": [
    "# Create date column\n",
    "# Old code\n",
    "# df['date'] = (df['parentTitle']\n",
    "#               .str.extract(r\"(\\d{1,2} \\w{3,5}'23)\")\n",
    "#               .astype('datetime64'))\n"
   ]
  },
  {
   "cell_type": "code",
   "execution_count": null,
   "metadata": {},
   "outputs": [],
   "source": [
    "# Updated code\n",
    "df['date'] = pd.to_datetime((df['parentTitle']\n",
    "                             .str.rsplit('23', n=1).str.get(0).add('23')\n",
    "                             .str.replace(r\"' 23|'23| ' 23\", ' 2023', regex=True)\n",
    "                             .str.replace(r'^(23)$', '', regex=True)\n",
    "                             .str.replace(r'^\\d{1,2} - ', '', regex=True)\n",
    "                             ), errors='coerce').ffill()\n"
   ]
  },
  {
   "cell_type": "code",
   "execution_count": null,
   "metadata": {},
   "outputs": [],
   "source": [
    "# Remove date sub-string from parentTitle\n",
    "df['parentTitle'] = df['parentTitle'].str.extract(r\".23 ? (\\w.*)\").ffill()"
   ]
  },
  {
   "cell_type": "code",
   "execution_count": null,
   "metadata": {},
   "outputs": [],
   "source": [
    "def print_curr_details(curr_df: pd.DataFrame, pat: str):\n",
    "    for i in curr_df['parentTitle'].unique():\n",
    "        if pat.lower() in i.lower():\n",
    "            # Get date\n",
    "            date = df.query('parentTitle==@i')['date'].mean()\n",
    "\n",
    "            print(f'+ {i} - {date:%d %B, %Y}')\n",
    "\n",
    "            for _, p, c in curr_df[['parentTitle', 'childTitle']].itertuples():\n",
    "                if i == p:\n",
    "                    print(f'  - {c}')\n",
    "            print()"
   ]
  },
  {
   "attachments": {},
   "cell_type": "markdown",
   "metadata": {},
   "source": [
    "## Find/Get curriculum details by topics."
   ]
  },
  {
   "cell_type": "code",
   "execution_count": null,
   "metadata": {},
   "outputs": [],
   "source": [
    "# Print some title for help\n",
    "print(df['parentTitle'].sample(10).unique())\n",
    "\n",
    "\n",
    "curr_inp = input('\\nEnter the (parent) topic to see (child) topics: ')\n",
    "\n",
    "print(f'\\n>>> You entered: {curr_inp}\\n')\n",
    "print_curr_details(df, curr_inp)"
   ]
  },
  {
   "cell_type": "code",
   "execution_count": null,
   "metadata": {},
   "outputs": [],
   "source": [
    "print(df.shape)\n",
    "df.sample(28)"
   ]
  }
 ],
 "metadata": {
  "kernelspec": {
   "display_name": "Python 3",
   "language": "python",
   "name": "python3"
  },
  "language_info": {
   "codemirror_mode": {
    "name": "ipython",
    "version": 3
   },
   "file_extension": ".py",
   "mimetype": "text/x-python",
   "name": "python",
   "nbconvert_exporter": "python",
   "pygments_lexer": "ipython3",
   "version": "3.11.0"
  },
  "orig_nbformat": 4,
  "vscode": {
   "interpreter": {
    "hash": "aee8b7b246df8f9039afb4144a1f6fd8d2ca17a180786b69acc140d282b71a49"
   }
  }
 },
 "nbformat": 4,
 "nbformat_minor": 2
}
