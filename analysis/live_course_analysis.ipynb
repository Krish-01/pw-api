{
 "cells": [
  {
   "cell_type": "code",
   "execution_count": 1,
   "metadata": {},
   "outputs": [],
   "source": [
    "import pandas as pd\n",
    "import requests\n",
    "import json\n",
    "import numpy as np\n",
    "import seaborn as sns\n"
   ]
  },
  {
   "cell_type": "code",
   "execution_count": 2,
   "metadata": {},
   "outputs": [
    {
     "name": "stdout",
     "output_type": "stream",
     "text": [
      "Last time this notebook runs at 03 Mar, 2023 09:58:42.\n"
     ]
    }
   ],
   "source": [
    "from datetime import datetime\n",
    "\n",
    "print(f\"Last time this notebook runs at {datetime.now():%d %h, %Y %H:%M:%S}.\")"
   ]
  },
  {
   "attachments": {},
   "cell_type": "markdown",
   "metadata": {},
   "source": [
    "# Get reponse from `URL`\n"
   ]
  },
  {
   "cell_type": "code",
   "execution_count": 3,
   "metadata": {},
   "outputs": [
    {
     "data": {
      "text/plain": [
       "<Response [200]>"
      ]
     },
     "execution_count": 3,
     "metadata": {},
     "output_type": "execute_result"
    }
   ],
   "source": [
    "url = 'https://learn.pwskills.com/_next/data/Ags5MBEe764gpjeSLm3-n/course/Data-Science-masters/63a2eb428899436daf7eb489.json'\n",
    "\n",
    "# New data id on 26 Feb\n",
    "url = 'https://learn.pwskills.com/_next/data/vy3oIZoqr3YCpkH5886xy/course/Data-Science-masters/63a2eb428899436daf7eb489.json'\n",
    "\n",
    "r = requests.get(url)\n",
    "r"
   ]
  },
  {
   "attachments": {},
   "cell_type": "markdown",
   "metadata": {},
   "source": [
    "## Get Course ID"
   ]
  },
  {
   "cell_type": "code",
   "execution_count": 4,
   "metadata": {},
   "outputs": [
    {
     "data": {
      "text/plain": [
       "'63a2eb428899436daf7eb489'"
      ]
     },
     "execution_count": 4,
     "metadata": {},
     "output_type": "execute_result"
    }
   ],
   "source": [
    "def get_course_id(url: str): return url.split('/')[-1].split('.')[0]\n",
    "\n",
    "course_id = get_course_id(url)\n",
    "course_id"
   ]
  },
  {
   "attachments": {},
   "cell_type": "markdown",
   "metadata": {},
   "source": [
    "## Get the JSON data.\n",
    "\n",
    "If the response's **status code** is `200`. Otherwise, import the stored JSON file `'../data/{course_id}.json'`.\n"
   ]
  },
  {
   "cell_type": "code",
   "execution_count": 5,
   "metadata": {},
   "outputs": [],
   "source": [
    "if r.status_code == 200:\n",
    "    live_course = r.json()\n",
    "else:\n",
    "    live_course = json.load(open(f'../data/{course_id}.json'))"
   ]
  },
  {
   "attachments": {},
   "cell_type": "markdown",
   "metadata": {},
   "source": [
    "## Export the JSON data when response status code is 200.\n"
   ]
  },
  {
   "cell_type": "code",
   "execution_count": 6,
   "metadata": {},
   "outputs": [],
   "source": [
    "if r.status_code == 200:\n",
    "    json.dump(r.json(), open(f'../data/courses/{course_id}.json', 'w'), indent=2)"
   ]
  },
  {
   "cell_type": "code",
   "execution_count": 7,
   "metadata": {},
   "outputs": [],
   "source": [
    "# sections data\n",
    "live_course_section = live_course['pageProps']['sections']['sections']\n",
    "\n",
    "# lessons data\n",
    "live_course_lessons = live_course['pageProps']['sections']['lessonDetails']"
   ]
  },
  {
   "attachments": {},
   "cell_type": "markdown",
   "metadata": {},
   "source": [
    "# Import `sections` data\n"
   ]
  },
  {
   "cell_type": "code",
   "execution_count": 8,
   "metadata": {},
   "outputs": [
    {
     "name": "stdout",
     "output_type": "stream",
     "text": [
      "(150, 2)\n"
     ]
    },
    {
     "data": {
      "text/html": [
       "<div>\n",
       "<style scoped>\n",
       "    .dataframe tbody tr th:only-of-type {\n",
       "        vertical-align: middle;\n",
       "    }\n",
       "\n",
       "    .dataframe tbody tr th {\n",
       "        vertical-align: top;\n",
       "    }\n",
       "\n",
       "    .dataframe thead th {\n",
       "        text-align: right;\n",
       "    }\n",
       "</style>\n",
       "<table border=\"1\" class=\"dataframe\">\n",
       "  <thead>\n",
       "    <tr style=\"text-align: right;\">\n",
       "      <th></th>\n",
       "      <th>0</th>\n",
       "      <th>title</th>\n",
       "    </tr>\n",
       "  </thead>\n",
       "  <tbody>\n",
       "    <tr>\n",
       "      <th>0</th>\n",
       "      <td>63d41cbf0e5fcb4eda852ad7</td>\n",
       "      <td>Feedback Form</td>\n",
       "    </tr>\n",
       "    <tr>\n",
       "      <th>1</th>\n",
       "      <td>63d18b200e5fcb8d9484ecd9</td>\n",
       "      <td>Ask your Doubt Form</td>\n",
       "    </tr>\n",
       "    <tr>\n",
       "      <th>2</th>\n",
       "      <td>63d76e9f0e5fcb52fa85914b</td>\n",
       "      <td>Live Doubt Clearing Session Monday &amp; Saturday ...</td>\n",
       "    </tr>\n",
       "    <tr>\n",
       "      <th>3</th>\n",
       "      <td>63d8b0e30e5fcbf81a85bb12</td>\n",
       "      <td>Doubt Clearing Recording</td>\n",
       "    </tr>\n",
       "    <tr>\n",
       "      <th>4</th>\n",
       "      <td>63ded727194b22529ee3e690</td>\n",
       "      <td>Doubt Clearing Recording</td>\n",
       "    </tr>\n",
       "  </tbody>\n",
       "</table>\n",
       "</div>"
      ],
      "text/plain": [
       "                          0                                              title\n",
       "0  63d41cbf0e5fcb4eda852ad7                                      Feedback Form\n",
       "1  63d18b200e5fcb8d9484ecd9                                Ask your Doubt Form\n",
       "2  63d76e9f0e5fcb52fa85914b  Live Doubt Clearing Session Monday & Saturday ...\n",
       "3  63d8b0e30e5fcbf81a85bb12                           Doubt Clearing Recording\n",
       "4  63ded727194b22529ee3e690                           Doubt Clearing Recording"
      ]
     },
     "execution_count": 8,
     "metadata": {},
     "output_type": "execute_result"
    }
   ],
   "source": [
    "sections = pd.json_normalize(live_course_section, 'lessons', 'title')\n",
    "print(sections.shape)\n",
    "sections.head()"
   ]
  },
  {
   "attachments": {},
   "cell_type": "markdown",
   "metadata": {},
   "source": [
    "### Extract `dates` from `title`\n"
   ]
  },
  {
   "cell_type": "code",
   "execution_count": 9,
   "metadata": {},
   "outputs": [],
   "source": [
    "sections['date'] = (sections['title']\n",
    "                    .str.extract(r\"(\\d{1,2}\\w{0,2} \\w{3}'23)\")\n",
    "                    .astype('datetime64'))"
   ]
  },
  {
   "attachments": {},
   "cell_type": "markdown",
   "metadata": {},
   "source": [
    "### Remove `dates` from `title`\n"
   ]
  },
  {
   "cell_type": "code",
   "execution_count": 10,
   "metadata": {},
   "outputs": [],
   "source": [
    "sections['title'] = (sections['title']\n",
    "                     .str.replace(r\"(\\d{1,2}\\w{0,2} \\w{3}'23)\", '', regex=True)\n",
    "                     .str.strip())"
   ]
  },
  {
   "attachments": {},
   "cell_type": "markdown",
   "metadata": {},
   "source": [
    "### Rename columns\n"
   ]
  },
  {
   "cell_type": "code",
   "execution_count": 11,
   "metadata": {},
   "outputs": [],
   "source": [
    "sections.rename(columns={0: '_id', 'title': 'sectionsTitle'}, inplace=True)"
   ]
  },
  {
   "cell_type": "code",
   "execution_count": 12,
   "metadata": {},
   "outputs": [
    {
     "data": {
      "text/html": [
       "<div>\n",
       "<style scoped>\n",
       "    .dataframe tbody tr th:only-of-type {\n",
       "        vertical-align: middle;\n",
       "    }\n",
       "\n",
       "    .dataframe tbody tr th {\n",
       "        vertical-align: top;\n",
       "    }\n",
       "\n",
       "    .dataframe thead th {\n",
       "        text-align: right;\n",
       "    }\n",
       "</style>\n",
       "<table border=\"1\" class=\"dataframe\">\n",
       "  <thead>\n",
       "    <tr style=\"text-align: right;\">\n",
       "      <th></th>\n",
       "      <th>_id</th>\n",
       "      <th>sectionsTitle</th>\n",
       "      <th>date</th>\n",
       "    </tr>\n",
       "  </thead>\n",
       "  <tbody>\n",
       "    <tr>\n",
       "      <th>0</th>\n",
       "      <td>63d41cbf0e5fcb4eda852ad7</td>\n",
       "      <td>Feedback Form</td>\n",
       "      <td>NaT</td>\n",
       "    </tr>\n",
       "    <tr>\n",
       "      <th>1</th>\n",
       "      <td>63d18b200e5fcb8d9484ecd9</td>\n",
       "      <td>Ask your Doubt Form</td>\n",
       "      <td>NaT</td>\n",
       "    </tr>\n",
       "    <tr>\n",
       "      <th>2</th>\n",
       "      <td>63d76e9f0e5fcb52fa85914b</td>\n",
       "      <td>Live Doubt Clearing Session Monday &amp; Saturday ...</td>\n",
       "      <td>NaT</td>\n",
       "    </tr>\n",
       "    <tr>\n",
       "      <th>3</th>\n",
       "      <td>63d8b0e30e5fcbf81a85bb12</td>\n",
       "      <td>Doubt Clearing Recording</td>\n",
       "      <td>NaT</td>\n",
       "    </tr>\n",
       "    <tr>\n",
       "      <th>4</th>\n",
       "      <td>63ded727194b22529ee3e690</td>\n",
       "      <td>Doubt Clearing Recording</td>\n",
       "      <td>NaT</td>\n",
       "    </tr>\n",
       "  </tbody>\n",
       "</table>\n",
       "</div>"
      ],
      "text/plain": [
       "                        _id  \\\n",
       "0  63d41cbf0e5fcb4eda852ad7   \n",
       "1  63d18b200e5fcb8d9484ecd9   \n",
       "2  63d76e9f0e5fcb52fa85914b   \n",
       "3  63d8b0e30e5fcbf81a85bb12   \n",
       "4  63ded727194b22529ee3e690   \n",
       "\n",
       "                                       sectionsTitle date  \n",
       "0                                      Feedback Form  NaT  \n",
       "1                                Ask your Doubt Form  NaT  \n",
       "2  Live Doubt Clearing Session Monday & Saturday ...  NaT  \n",
       "3                           Doubt Clearing Recording  NaT  \n",
       "4                           Doubt Clearing Recording  NaT  "
      ]
     },
     "execution_count": 12,
     "metadata": {},
     "output_type": "execute_result"
    }
   ],
   "source": [
    "sections.head()"
   ]
  },
  {
   "attachments": {},
   "cell_type": "markdown",
   "metadata": {},
   "source": [
    "# Import `lessons` data\n"
   ]
  },
  {
   "cell_type": "code",
   "execution_count": 13,
   "metadata": {},
   "outputs": [
    {
     "data": {
      "text/html": [
       "<div>\n",
       "<style scoped>\n",
       "    .dataframe tbody tr th:only-of-type {\n",
       "        vertical-align: middle;\n",
       "    }\n",
       "\n",
       "    .dataframe tbody tr th {\n",
       "        vertical-align: top;\n",
       "    }\n",
       "\n",
       "    .dataframe thead th {\n",
       "        text-align: right;\n",
       "    }\n",
       "</style>\n",
       "<table border=\"1\" class=\"dataframe\">\n",
       "  <thead>\n",
       "    <tr style=\"text-align: right;\">\n",
       "      <th></th>\n",
       "      <th>_id</th>\n",
       "      <th>data</th>\n",
       "      <th>title</th>\n",
       "      <th>type</th>\n",
       "      <th>quizQuestions</th>\n",
       "      <th>totalQuestionsInQuiz</th>\n",
       "    </tr>\n",
       "  </thead>\n",
       "  <tbody>\n",
       "    <tr>\n",
       "      <th>0</th>\n",
       "      <td>63a83107816f9c3772c01074</td>\n",
       "      <td>{'thumbnail': 'https://i.ytimg.com/vi/aMsADXah...</td>\n",
       "      <td>Course Induction</td>\n",
       "      <td>video</td>\n",
       "      <td>[]</td>\n",
       "      <td>NaN</td>\n",
       "    </tr>\n",
       "    <tr>\n",
       "      <th>1</th>\n",
       "      <td>63b6b091334640cb47715bf1</td>\n",
       "      <td>{'thumbnail': 'https://i.ytimg.com/vi/jIzBX3ei...</td>\n",
       "      <td>Course Overview And Dashboard Description</td>\n",
       "      <td>video</td>\n",
       "      <td>[]</td>\n",
       "      <td>NaN</td>\n",
       "    </tr>\n",
       "    <tr>\n",
       "      <th>2</th>\n",
       "      <td>63b6b0a93346406567715bf9</td>\n",
       "      <td>{'thumbnail': 'https://i.ytimg.com/vi/JUm-e2Rp...</td>\n",
       "      <td>Lab Introduction</td>\n",
       "      <td>video</td>\n",
       "      <td>[]</td>\n",
       "      <td>NaN</td>\n",
       "    </tr>\n",
       "    <tr>\n",
       "      <th>3</th>\n",
       "      <td>63b6b0bd3346407016715c01</td>\n",
       "      <td>{'thumbnail': 'https://i.ytimg.com/vi/lMjJkKTr...</td>\n",
       "      <td>Experience Portal Introduction</td>\n",
       "      <td>video</td>\n",
       "      <td>[]</td>\n",
       "      <td>NaN</td>\n",
       "    </tr>\n",
       "    <tr>\n",
       "      <th>4</th>\n",
       "      <td>63b6b0d833464091f0715c09</td>\n",
       "      <td>{'thumbnail': 'https://i.ytimg.com/vi/9jg375lK...</td>\n",
       "      <td>Let's Get Started</td>\n",
       "      <td>video</td>\n",
       "      <td>[]</td>\n",
       "      <td>NaN</td>\n",
       "    </tr>\n",
       "  </tbody>\n",
       "</table>\n",
       "</div>"
      ],
      "text/plain": [
       "                        _id  \\\n",
       "0  63a83107816f9c3772c01074   \n",
       "1  63b6b091334640cb47715bf1   \n",
       "2  63b6b0a93346406567715bf9   \n",
       "3  63b6b0bd3346407016715c01   \n",
       "4  63b6b0d833464091f0715c09   \n",
       "\n",
       "                                                data  \\\n",
       "0  {'thumbnail': 'https://i.ytimg.com/vi/aMsADXah...   \n",
       "1  {'thumbnail': 'https://i.ytimg.com/vi/jIzBX3ei...   \n",
       "2  {'thumbnail': 'https://i.ytimg.com/vi/JUm-e2Rp...   \n",
       "3  {'thumbnail': 'https://i.ytimg.com/vi/lMjJkKTr...   \n",
       "4  {'thumbnail': 'https://i.ytimg.com/vi/9jg375lK...   \n",
       "\n",
       "                                       title   type quizQuestions  \\\n",
       "0                           Course Induction  video            []   \n",
       "1  Course Overview And Dashboard Description  video            []   \n",
       "2                           Lab Introduction  video            []   \n",
       "3             Experience Portal Introduction  video            []   \n",
       "4                          Let's Get Started  video            []   \n",
       "\n",
       "   totalQuestionsInQuiz  \n",
       "0                   NaN  \n",
       "1                   NaN  \n",
       "2                   NaN  \n",
       "3                   NaN  \n",
       "4                   NaN  "
      ]
     },
     "execution_count": 13,
     "metadata": {},
     "output_type": "execute_result"
    }
   ],
   "source": [
    "lessons = pd.DataFrame.from_dict(live_course_lessons)\n",
    "lessons.head()"
   ]
  },
  {
   "attachments": {},
   "cell_type": "markdown",
   "metadata": {},
   "source": [
    "### Extract video `duration` from `data` column."
   ]
  },
  {
   "cell_type": "code",
   "execution_count": 14,
   "metadata": {},
   "outputs": [],
   "source": [
    "lessons['duration'] = lessons['data'].str.get('duration')  # type: ignore"
   ]
  },
  {
   "attachments": {},
   "cell_type": "markdown",
   "metadata": {},
   "source": [
    "### Extract assignments `maxPoints` from `data` column."
   ]
  },
  {
   "cell_type": "code",
   "execution_count": 15,
   "metadata": {},
   "outputs": [],
   "source": [
    "lessons['totalPointsInAssignment'] = lessons['data'].str.get('maxPoints')  # type: ignore"
   ]
  },
  {
   "attachments": {},
   "cell_type": "markdown",
   "metadata": {},
   "source": [
    "### Extract sectionResource's `resourceURl` from `data` column."
   ]
  },
  {
   "cell_type": "code",
   "execution_count": 16,
   "metadata": {},
   "outputs": [],
   "source": [
    "lessons['url'] = lessons['data'].str.get('resourceURL')  # type: ignore"
   ]
  },
  {
   "cell_type": "code",
   "execution_count": 17,
   "metadata": {},
   "outputs": [
    {
     "name": "stdout",
     "output_type": "stream",
     "text": [
      "<class 'pandas.core.frame.DataFrame'>\n",
      "RangeIndex: 150 entries, 0 to 149\n",
      "Data columns (total 9 columns):\n",
      " #   Column                   Non-Null Count  Dtype  \n",
      "---  ------                   --------------  -----  \n",
      " 0   _id                      150 non-null    object \n",
      " 1   data                     121 non-null    object \n",
      " 2   title                    150 non-null    object \n",
      " 3   type                     150 non-null    object \n",
      " 4   quizQuestions            121 non-null    object \n",
      " 5   totalQuestionsInQuiz     29 non-null     float64\n",
      " 6   duration                 69 non-null     float64\n",
      " 7   totalPointsInAssignment  26 non-null     float64\n",
      " 8   url                      25 non-null     object \n",
      "dtypes: float64(3), object(6)\n",
      "memory usage: 10.7+ KB\n"
     ]
    }
   ],
   "source": [
    "lessons.info()"
   ]
  },
  {
   "attachments": {},
   "cell_type": "markdown",
   "metadata": {},
   "source": [
    "### Check `quizQuestions` column\n"
   ]
  },
  {
   "cell_type": "code",
   "execution_count": 18,
   "metadata": {},
   "outputs": [
    {
     "name": "stdout",
     "output_type": "stream",
     "text": [
      "'quizQuestions' columns has 150 null values out of 150 values.\n",
      "Thats why, need to drop it.\n"
     ]
    }
   ],
   "source": [
    "no_of_na_vals = (lessons['quizQuestions']\n",
    "                 .apply(lambda x: np.nan if isinstance(x, list) and len(x) == 0 else x)\n",
    "                 .isnull().sum())\n",
    "\n",
    "print(f\"'quizQuestions' columns has {no_of_na_vals} null values out of {lessons.shape[0]} values.\")\n",
    "print('Thats why, need to drop it.')"
   ]
  },
  {
   "attachments": {},
   "cell_type": "markdown",
   "metadata": {},
   "source": [
    "### Drop Columns\n"
   ]
  },
  {
   "cell_type": "code",
   "execution_count": 19,
   "metadata": {},
   "outputs": [],
   "source": [
    "lessons.drop(columns=['data', 'quizQuestions'], inplace=True)"
   ]
  },
  {
   "attachments": {},
   "cell_type": "markdown",
   "metadata": {},
   "source": [
    "### Rename columns\n"
   ]
  },
  {
   "cell_type": "code",
   "execution_count": 20,
   "metadata": {},
   "outputs": [],
   "source": [
    "# Rename the title column to differentiate\n",
    "lessons.rename(columns={\n",
    "    'title': 'lessonsTitle'\n",
    "}, inplace=True)"
   ]
  },
  {
   "cell_type": "code",
   "execution_count": 21,
   "metadata": {},
   "outputs": [
    {
     "name": "stdout",
     "output_type": "stream",
     "text": [
      "<class 'pandas.core.frame.DataFrame'>\n",
      "RangeIndex: 150 entries, 0 to 149\n",
      "Data columns (total 7 columns):\n",
      " #   Column                   Non-Null Count  Dtype  \n",
      "---  ------                   --------------  -----  \n",
      " 0   _id                      150 non-null    object \n",
      " 1   lessonsTitle             150 non-null    object \n",
      " 2   type                     150 non-null    object \n",
      " 3   totalQuestionsInQuiz     29 non-null     float64\n",
      " 4   duration                 69 non-null     float64\n",
      " 5   totalPointsInAssignment  26 non-null     float64\n",
      " 6   url                      25 non-null     object \n",
      "dtypes: float64(3), object(4)\n",
      "memory usage: 8.3+ KB\n"
     ]
    }
   ],
   "source": [
    "lessons.info()"
   ]
  },
  {
   "attachments": {},
   "cell_type": "markdown",
   "metadata": {},
   "source": [
    "# Merge the datasets\n"
   ]
  },
  {
   "cell_type": "code",
   "execution_count": 22,
   "metadata": {},
   "outputs": [
    {
     "name": "stdout",
     "output_type": "stream",
     "text": [
      "(150, 9)\n"
     ]
    },
    {
     "data": {
      "text/html": [
       "<div>\n",
       "<style scoped>\n",
       "    .dataframe tbody tr th:only-of-type {\n",
       "        vertical-align: middle;\n",
       "    }\n",
       "\n",
       "    .dataframe tbody tr th {\n",
       "        vertical-align: top;\n",
       "    }\n",
       "\n",
       "    .dataframe thead th {\n",
       "        text-align: right;\n",
       "    }\n",
       "</style>\n",
       "<table border=\"1\" class=\"dataframe\">\n",
       "  <thead>\n",
       "    <tr style=\"text-align: right;\">\n",
       "      <th></th>\n",
       "      <th>_id</th>\n",
       "      <th>sectionsTitle</th>\n",
       "      <th>date</th>\n",
       "      <th>lessonsTitle</th>\n",
       "      <th>type</th>\n",
       "      <th>totalQuestionsInQuiz</th>\n",
       "      <th>duration</th>\n",
       "      <th>totalPointsInAssignment</th>\n",
       "      <th>url</th>\n",
       "    </tr>\n",
       "  </thead>\n",
       "  <tbody>\n",
       "    <tr>\n",
       "      <th>0</th>\n",
       "      <td>63d41cbf0e5fcb4eda852ad7</td>\n",
       "      <td>Feedback Form</td>\n",
       "      <td>NaT</td>\n",
       "      <td>Feedback Form</td>\n",
       "      <td>sectionResource</td>\n",
       "      <td>NaN</td>\n",
       "      <td>NaN</td>\n",
       "      <td>NaN</td>\n",
       "      <td>https://forms.gle/ffQcthJddQGBjofD8</td>\n",
       "    </tr>\n",
       "    <tr>\n",
       "      <th>1</th>\n",
       "      <td>63d18b200e5fcb8d9484ecd9</td>\n",
       "      <td>Ask your Doubt Form</td>\n",
       "      <td>NaT</td>\n",
       "      <td>Ask your doubt</td>\n",
       "      <td>sectionResource</td>\n",
       "      <td>NaN</td>\n",
       "      <td>NaN</td>\n",
       "      <td>NaN</td>\n",
       "      <td>https://forms.gle/1kj81RHPS4ErGjGV9</td>\n",
       "    </tr>\n",
       "    <tr>\n",
       "      <th>2</th>\n",
       "      <td>63d76e9f0e5fcb52fa85914b</td>\n",
       "      <td>Live Doubt Clearing Session Monday &amp; Saturday ...</td>\n",
       "      <td>NaT</td>\n",
       "      <td>Live Doubt Clearing Session Monday &amp; Saturday ...</td>\n",
       "      <td>sectionResource</td>\n",
       "      <td>NaN</td>\n",
       "      <td>NaN</td>\n",
       "      <td>NaN</td>\n",
       "      <td>https://us06web.zoom.us/j/86960400780</td>\n",
       "    </tr>\n",
       "    <tr>\n",
       "      <th>3</th>\n",
       "      <td>63d8b0e30e5fcbf81a85bb12</td>\n",
       "      <td>Doubt Clearing Recording</td>\n",
       "      <td>NaT</td>\n",
       "      <td>30th Jan Doubt Clearing Session</td>\n",
       "      <td>video</td>\n",
       "      <td>NaN</td>\n",
       "      <td>11107.0</td>\n",
       "      <td>NaN</td>\n",
       "      <td>None</td>\n",
       "    </tr>\n",
       "    <tr>\n",
       "      <th>4</th>\n",
       "      <td>63ded727194b22529ee3e690</td>\n",
       "      <td>Doubt Clearing Recording</td>\n",
       "      <td>NaT</td>\n",
       "      <td>4th Feb Doubt Session</td>\n",
       "      <td>video</td>\n",
       "      <td>NaN</td>\n",
       "      <td>NaN</td>\n",
       "      <td>NaN</td>\n",
       "      <td>None</td>\n",
       "    </tr>\n",
       "  </tbody>\n",
       "</table>\n",
       "</div>"
      ],
      "text/plain": [
       "                        _id  \\\n",
       "0  63d41cbf0e5fcb4eda852ad7   \n",
       "1  63d18b200e5fcb8d9484ecd9   \n",
       "2  63d76e9f0e5fcb52fa85914b   \n",
       "3  63d8b0e30e5fcbf81a85bb12   \n",
       "4  63ded727194b22529ee3e690   \n",
       "\n",
       "                                       sectionsTitle date  \\\n",
       "0                                      Feedback Form  NaT   \n",
       "1                                Ask your Doubt Form  NaT   \n",
       "2  Live Doubt Clearing Session Monday & Saturday ...  NaT   \n",
       "3                           Doubt Clearing Recording  NaT   \n",
       "4                           Doubt Clearing Recording  NaT   \n",
       "\n",
       "                                        lessonsTitle             type  \\\n",
       "0                                      Feedback Form  sectionResource   \n",
       "1                                     Ask your doubt  sectionResource   \n",
       "2  Live Doubt Clearing Session Monday & Saturday ...  sectionResource   \n",
       "3                    30th Jan Doubt Clearing Session            video   \n",
       "4                              4th Feb Doubt Session            video   \n",
       "\n",
       "   totalQuestionsInQuiz  duration  totalPointsInAssignment  \\\n",
       "0                   NaN       NaN                      NaN   \n",
       "1                   NaN       NaN                      NaN   \n",
       "2                   NaN       NaN                      NaN   \n",
       "3                   NaN   11107.0                      NaN   \n",
       "4                   NaN       NaN                      NaN   \n",
       "\n",
       "                                     url  \n",
       "0    https://forms.gle/ffQcthJddQGBjofD8  \n",
       "1    https://forms.gle/1kj81RHPS4ErGjGV9  \n",
       "2  https://us06web.zoom.us/j/86960400780  \n",
       "3                                   None  \n",
       "4                                   None  "
      ]
     },
     "execution_count": 22,
     "metadata": {},
     "output_type": "execute_result"
    }
   ],
   "source": [
    "df = sections.merge(lessons, on='_id', how='inner')\n",
    "print(df.shape)\n",
    "df.head()"
   ]
  },
  {
   "attachments": {},
   "cell_type": "markdown",
   "metadata": {},
   "source": [
    "# EDA ON DATA"
   ]
  },
  {
   "attachments": {},
   "cell_type": "markdown",
   "metadata": {},
   "source": [
    "### Count of different `type` in course\n"
   ]
  },
  {
   "cell_type": "code",
   "execution_count": 23,
   "metadata": {},
   "outputs": [
    {
     "data": {
      "text/plain": [
       "video              70\n",
       "quiz               29\n",
       "assignment         26\n",
       "sectionResource    25\n",
       "Name: type, dtype: int64"
      ]
     },
     "execution_count": 23,
     "metadata": {},
     "output_type": "execute_result"
    }
   ],
   "source": [
    "df['type'].value_counts()"
   ]
  },
  {
   "cell_type": "code",
   "execution_count": 24,
   "metadata": {},
   "outputs": [
    {
     "data": {
      "text/plain": [
       "video              46.7\n",
       "quiz               19.3\n",
       "assignment         17.3\n",
       "sectionResource    16.7\n",
       "Name: type, dtype: float64"
      ]
     },
     "execution_count": 24,
     "metadata": {},
     "output_type": "execute_result"
    }
   ],
   "source": [
    "# In percentage\n",
    "df['type'].value_counts(True).mul(100).round(1)"
   ]
  },
  {
   "cell_type": "code",
   "execution_count": 25,
   "metadata": {},
   "outputs": [
    {
     "data": {
      "text/plain": [
       "<AxesSubplot: xlabel='type', ylabel='count'>"
      ]
     },
     "execution_count": 25,
     "metadata": {},
     "output_type": "execute_result"
    },
    {
     "data": {
      "image/png": "[encoded data removed]",
      "text/plain": [
       "<Figure size 640x480 with 1 Axes>"
      ]
     },
     "metadata": {},
     "output_type": "display_data"
    }
   ],
   "source": [
    "# In countplot\n",
    "sns.countplot(data=df, x='type')"
   ]
  },
  {
   "attachments": {},
   "cell_type": "markdown",
   "metadata": {},
   "source": [
    "### What is _sectionResource_?\n",
    "\n",
    "Initially, `sectionResource` contains the `resourceURL` for __Live classes, Doubt classes and Feedback form__.  \n",
    "But now, on **2 March, 2023** new `sectionResource` is added to the course as **Python Practice** and it contains the G-Drive URL of PDFs and Docs."
   ]
  },
  {
   "cell_type": "code",
   "execution_count": 42,
   "metadata": {},
   "outputs": [
    {
     "name": "stdout",
     "output_type": "stream",
     "text": [
      "(25, 9)\n"
     ]
    },
    {
     "data": {
      "text/html": [
       "<div>\n",
       "<style scoped>\n",
       "    .dataframe tbody tr th:only-of-type {\n",
       "        vertical-align: middle;\n",
       "    }\n",
       "\n",
       "    .dataframe tbody tr th {\n",
       "        vertical-align: top;\n",
       "    }\n",
       "\n",
       "    .dataframe thead th {\n",
       "        text-align: right;\n",
       "    }\n",
       "</style>\n",
       "<table border=\"1\" class=\"dataframe\">\n",
       "  <thead>\n",
       "    <tr style=\"text-align: right;\">\n",
       "      <th></th>\n",
       "      <th>_id</th>\n",
       "      <th>sectionsTitle</th>\n",
       "      <th>date</th>\n",
       "      <th>lessonsTitle</th>\n",
       "      <th>type</th>\n",
       "      <th>totalQuestionsInQuiz</th>\n",
       "      <th>duration</th>\n",
       "      <th>totalPointsInAssignment</th>\n",
       "      <th>url</th>\n",
       "    </tr>\n",
       "  </thead>\n",
       "  <tbody>\n",
       "    <tr>\n",
       "      <th>145</th>\n",
       "      <td>6400d0e8182c67d48c4c0ab0</td>\n",
       "      <td>Python Practice Solutions</td>\n",
       "      <td>NaT</td>\n",
       "      <td>Python Practice Set-7</td>\n",
       "      <td>sectionResource</td>\n",
       "      <td>NaN</td>\n",
       "      <td>NaN</td>\n",
       "      <td>NaN</td>\n",
       "      <td>https://drive.google.com/file/d/1C2-87zdD6K5Ju...</td>\n",
       "    </tr>\n",
       "    <tr>\n",
       "      <th>146</th>\n",
       "      <td>6400d10f182c6742194c0ab5</td>\n",
       "      <td>Python Practice Solutions</td>\n",
       "      <td>NaT</td>\n",
       "      <td>Python Practice Set-8</td>\n",
       "      <td>sectionResource</td>\n",
       "      <td>NaN</td>\n",
       "      <td>NaN</td>\n",
       "      <td>NaN</td>\n",
       "      <td>https://drive.google.com/file/d/18X7DcoTLYy3eE...</td>\n",
       "    </tr>\n",
       "    <tr>\n",
       "      <th>147</th>\n",
       "      <td>6400d133182c6769534c0aba</td>\n",
       "      <td>Python Practice Solutions</td>\n",
       "      <td>NaT</td>\n",
       "      <td>Python Practice Set-9</td>\n",
       "      <td>sectionResource</td>\n",
       "      <td>NaN</td>\n",
       "      <td>NaN</td>\n",
       "      <td>NaN</td>\n",
       "      <td>https://drive.google.com/file/d/1XELLrb2N_NSql...</td>\n",
       "    </tr>\n",
       "    <tr>\n",
       "      <th>148</th>\n",
       "      <td>6400d163182c673a334c0abf</td>\n",
       "      <td>Python Practice Solutions</td>\n",
       "      <td>NaT</td>\n",
       "      <td>Python Practice Set-10</td>\n",
       "      <td>sectionResource</td>\n",
       "      <td>NaN</td>\n",
       "      <td>NaN</td>\n",
       "      <td>NaN</td>\n",
       "      <td>https://docs.google.com/document/d/1uGQa0_EcRx...</td>\n",
       "    </tr>\n",
       "    <tr>\n",
       "      <th>149</th>\n",
       "      <td>6400d186182c6752ca4c0afa</td>\n",
       "      <td>Python Practice Solutions</td>\n",
       "      <td>NaT</td>\n",
       "      <td>Python Practice Set-11</td>\n",
       "      <td>sectionResource</td>\n",
       "      <td>NaN</td>\n",
       "      <td>NaN</td>\n",
       "      <td>NaN</td>\n",
       "      <td>https://docs.google.com/document/d/10hbDkw5V1i...</td>\n",
       "    </tr>\n",
       "  </tbody>\n",
       "</table>\n",
       "</div>"
      ],
      "text/plain": [
       "                          _id              sectionsTitle date  \\\n",
       "145  6400d0e8182c67d48c4c0ab0  Python Practice Solutions  NaT   \n",
       "146  6400d10f182c6742194c0ab5  Python Practice Solutions  NaT   \n",
       "147  6400d133182c6769534c0aba  Python Practice Solutions  NaT   \n",
       "148  6400d163182c673a334c0abf  Python Practice Solutions  NaT   \n",
       "149  6400d186182c6752ca4c0afa  Python Practice Solutions  NaT   \n",
       "\n",
       "               lessonsTitle             type  totalQuestionsInQuiz  duration  \\\n",
       "145   Python Practice Set-7  sectionResource                   NaN       NaN   \n",
       "146   Python Practice Set-8  sectionResource                   NaN       NaN   \n",
       "147   Python Practice Set-9  sectionResource                   NaN       NaN   \n",
       "148  Python Practice Set-10  sectionResource                   NaN       NaN   \n",
       "149  Python Practice Set-11  sectionResource                   NaN       NaN   \n",
       "\n",
       "     totalPointsInAssignment  \\\n",
       "145                      NaN   \n",
       "146                      NaN   \n",
       "147                      NaN   \n",
       "148                      NaN   \n",
       "149                      NaN   \n",
       "\n",
       "                                                   url  \n",
       "145  https://drive.google.com/file/d/1C2-87zdD6K5Ju...  \n",
       "146  https://drive.google.com/file/d/18X7DcoTLYy3eE...  \n",
       "147  https://drive.google.com/file/d/1XELLrb2N_NSql...  \n",
       "148  https://docs.google.com/document/d/1uGQa0_EcRx...  \n",
       "149  https://docs.google.com/document/d/10hbDkw5V1i...  "
      ]
     },
     "execution_count": 42,
     "metadata": {},
     "output_type": "execute_result"
    }
   ],
   "source": [
    "sec_resource = df.query(\"type=='sectionResource'\")\n",
    "\n",
    "print(sec_resource.shape)\n",
    "sec_resource.tail()"
   ]
  },
  {
   "attachments": {},
   "cell_type": "markdown",
   "metadata": {},
   "source": [
    "### Live Course Duration"
   ]
  },
  {
   "cell_type": "code",
   "execution_count": 27,
   "metadata": {},
   "outputs": [],
   "source": [
    "total_quiz_ques = df['totalQuestionsInQuiz'].sum()\n",
    "total_asgn_points = df['totalPointsInAssignment'].sum()\n",
    "total_video_duration = round(df['duration'].sum() / 3600, 2)"
   ]
  },
  {
   "cell_type": "code",
   "execution_count": 28,
   "metadata": {},
   "outputs": [
    {
     "name": "stdout",
     "output_type": "stream",
     "text": [
      "No. of questions in Quiz = 228 questions.\n",
      "Total assignments points = 2760 points.\n",
      "Total duration of videos in Course = 65.83 hours.\n"
     ]
    }
   ],
   "source": [
    "print(f'No. of questions in Quiz = {int(total_quiz_ques)} questions.')\n",
    "print(f'Total assignments points = {int(total_asgn_points)} points.')\n",
    "print(f'Total duration of videos in Course = {total_video_duration} hours.')"
   ]
  },
  {
   "attachments": {},
   "cell_type": "markdown",
   "metadata": {},
   "source": [
    "### How many days has this course lasted so far?\n"
   ]
  },
  {
   "cell_type": "code",
   "execution_count": 29,
   "metadata": {},
   "outputs": [
    {
     "name": "stdout",
     "output_type": "stream",
     "text": [
      "For now the course has runs for 33 days.\n"
     ]
    }
   ],
   "source": [
    "max_date = df['date'].max()\n",
    "min_date = df['date'].min()\n",
    "\n",
    "print(f'For now the course has runs for {(max_date-min_date).days} days.')"
   ]
  },
  {
   "cell_type": "code",
   "execution_count": 30,
   "metadata": {},
   "outputs": [
    {
     "name": "stdout",
     "output_type": "stream",
     "text": [
      "First update in course on 28 Jan, 2023.\n",
      "Last update in course on 02 Mar, 2023.\n"
     ]
    }
   ],
   "source": [
    "print(f\"First update in course on {min_date:%d %h, %Y}.\")\n",
    "print(f\"Last update in course on {max_date:%d %h, %Y}.\")"
   ]
  },
  {
   "attachments": {},
   "cell_type": "markdown",
   "metadata": {},
   "source": [
    "### Most recent course Section and Lesson."
   ]
  },
  {
   "cell_type": "code",
   "execution_count": 31,
   "metadata": {},
   "outputs": [],
   "source": [
    "most_recent_section = df.query('date==@max_date')['sectionsTitle'].values[0]\n",
    "most_recent_lesson = df.query('date==@max_date')['lessonsTitle'].values"
   ]
  },
  {
   "cell_type": "code",
   "execution_count": 32,
   "metadata": {},
   "outputs": [
    {
     "name": "stdout",
     "output_type": "stream",
     "text": [
      "Most recent course Section covered is Visualization.\n",
      "Most recent course Lesson covered are Matplotlib, Matplotlib Assignment, Visualization quiz.\n"
     ]
    }
   ],
   "source": [
    "print(f\"Most recent course Section covered is {most_recent_section}.\")\n",
    "print(f\"Most recent course Lesson covered are {', '.join(most_recent_lesson)}.\")"
   ]
  },
  {
   "attachments": {},
   "cell_type": "markdown",
   "metadata": {},
   "source": [
    "### No. of Sections and Lessons covered"
   ]
  },
  {
   "cell_type": "code",
   "execution_count": 33,
   "metadata": {},
   "outputs": [
    {
     "name": "stdout",
     "output_type": "stream",
     "text": [
      "Till now, 36 Sections covered in the course.\n",
      "And, 143 Lessons.\n"
     ]
    }
   ],
   "source": [
    "no_of_sections = df['sectionsTitle'].nunique()\n",
    "no_of_lessons = df['lessonsTitle'].nunique()\n",
    "\n",
    "print(f\"Till now, {no_of_sections} Sections covered in the course.\")\n",
    "print(f\"And, {no_of_lessons} Lessons.\")"
   ]
  },
  {
   "attachments": {},
   "cell_type": "markdown",
   "metadata": {},
   "source": [
    "# Make URLs\n",
    "\n",
    "> Sample URL for videos: `https://api.pwskills.com/v1/learn/lesson/video-session/63a2eb428899436daf7eb489/lesson/63fa15eb182c67f36e4b90dd`\n",
    "\n",
    "> Sample URL for Quiz and Assignment: `https://api.pwskills.com/v1/learn/lesson/course/63a2eb428899436daf7eb489/63fa2330182c6727c14b9189`\n"
   ]
  },
  {
   "attachments": {},
   "cell_type": "markdown",
   "metadata": {},
   "source": [
    "### Videos"
   ]
  },
  {
   "cell_type": "code",
   "execution_count": 34,
   "metadata": {},
   "outputs": [],
   "source": [
    "# Base URL for videos\n",
    "base_vid_url = f'https://api.pwskills.com/v1/learn/lesson/video-session/{course_id}/lesson/'"
   ]
  },
  {
   "cell_type": "code",
   "execution_count": 35,
   "metadata": {},
   "outputs": [],
   "source": [
    "videos = df.query('type==\"video\"')\n",
    "\n",
    "df.loc[videos.index, 'url'] = base_vid_url + videos['_id']"
   ]
  },
  {
   "attachments": {},
   "cell_type": "markdown",
   "metadata": {},
   "source": [
    "### Quiz and Assignments"
   ]
  },
  {
   "cell_type": "code",
   "execution_count": 37,
   "metadata": {},
   "outputs": [],
   "source": [
    "# Base URL for Quiz and Assignments\n",
    "base_url = f'https://api.pwskills.com/v1/learn/lesson/course/{course_id}/'"
   ]
  },
  {
   "cell_type": "code",
   "execution_count": 38,
   "metadata": {},
   "outputs": [],
   "source": [
    "quizes = df.query('type==\"quiz\"')\n",
    "\n",
    "df.loc[quizes.index, 'url'] = base_url + quizes['_id']"
   ]
  },
  {
   "cell_type": "code",
   "execution_count": 39,
   "metadata": {},
   "outputs": [],
   "source": [
    "# Assignment url\n",
    "assignmets = df.query('type==\"assignment\"')\n",
    "\n",
    "df.loc[assignmets.index, 'url'] = base_url + assignmets['_id']"
   ]
  },
  {
   "cell_type": "code",
   "execution_count": 40,
   "metadata": {},
   "outputs": [
    {
     "name": "stdout",
     "output_type": "stream",
     "text": [
      "<class 'pandas.core.frame.DataFrame'>\n",
      "Int64Index: 150 entries, 0 to 149\n",
      "Data columns (total 9 columns):\n",
      " #   Column                   Non-Null Count  Dtype         \n",
      "---  ------                   --------------  -----         \n",
      " 0   _id                      150 non-null    object        \n",
      " 1   sectionsTitle            150 non-null    object        \n",
      " 2   date                     104 non-null    datetime64[ns]\n",
      " 3   lessonsTitle             150 non-null    object        \n",
      " 4   type                     150 non-null    object        \n",
      " 5   totalQuestionsInQuiz     29 non-null     float64       \n",
      " 6   duration                 69 non-null     float64       \n",
      " 7   totalPointsInAssignment  26 non-null     float64       \n",
      " 8   url                      150 non-null    object        \n",
      "dtypes: datetime64[ns](1), float64(3), object(5)\n",
      "memory usage: 15.8+ KB\n"
     ]
    }
   ],
   "source": [
    "df.info()"
   ]
  },
  {
   "attachments": {},
   "cell_type": "markdown",
   "metadata": {},
   "source": [
    "# Export the dataset as CSV"
   ]
  },
  {
   "cell_type": "code",
   "execution_count": 45,
   "metadata": {},
   "outputs": [],
   "source": [
    "df.to_csv(f'../data/{course_id}.csv', index=False)"
   ]
  }
 ],
 "metadata": {
  "kernelspec": {
   "display_name": "Python 3",
   "language": "python",
   "name": "python3"
  },
  "language_info": {
   "codemirror_mode": {
    "name": "ipython",
    "version": 3
   },
   "file_extension": ".py",
   "mimetype": "text/x-python",
   "name": "python",
   "nbconvert_exporter": "python",
   "pygments_lexer": "ipython3",
   "version": "3.11.0"
  },
  "orig_nbformat": 4,
  "vscode": {
   "interpreter": {
    "hash": "aee8b7b246df8f9039afb4144a1f6fd8d2ca17a180786b69acc140d282b71a49"
   }
  }
 },
 "nbformat": 4,
 "nbformat_minor": 2
}
