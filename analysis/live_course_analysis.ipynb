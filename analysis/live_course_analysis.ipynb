{
 "cells": [
  {
   "cell_type": "code",
   "execution_count": 5,
   "metadata": {},
   "outputs": [],
   "source": [
    "import json\n",
    "import logging\n",
    "\n",
    "from bs4 import BeautifulSoup\n",
    "import numpy as np\n",
    "import requests\n",
    "import pandas as pd\n",
    "import seaborn as sns\n",
    "\n",
    "import utils.logger\n",
    "from utils.logger import LoggingMessage\n"
   ]
  },
  {
   "cell_type": "code",
   "execution_count": 6,
   "metadata": {},
   "outputs": [],
   "source": [
    "from datetime import datetime\n",
    "\n",
    "time_stamp = f\"Last time this notebook runs at {datetime.now():%d %h, %Y %H:%M:%S}.\"\n",
    "logging.info(time_stamp)"
   ]
  },
  {
   "attachments": {},
   "cell_type": "markdown",
   "metadata": {},
   "source": [
    "# All courses dict"
   ]
  },
  {
   "cell_type": "code",
   "execution_count": null,
   "metadata": {},
   "outputs": [],
   "source": [
    "courses_dict: dict = json.load(open('data/courses/all_courses_dict.json'))\n",
    "courses_dict.keys()"
   ]
  },
  {
   "attachments": {},
   "cell_type": "markdown",
   "metadata": {},
   "source": [
    "## Select course"
   ]
  },
  {
   "cell_type": "code",
   "execution_count": null,
   "metadata": {},
   "outputs": [],
   "source": [
    "# Copy and Paste name from above output\n",
    "# course_name = 'Java with DSA and system design'\n",
    "# course_name = 'Data Science masters'\n",
    "course_name = 'Full Stack web development'\n",
    "course_id = courses_dict[course_name]\n",
    "\n",
    "def get_url(course_name):\n",
    "    course_id = courses_dict[course_name]\n",
    "    return f'https://learn.pwskills.com/course/{course_name}/{course_id}'\n"
   ]
  },
  {
   "cell_type": "code",
   "execution_count": null,
   "metadata": {},
   "outputs": [],
   "source": [
    "def get_live_course_dict(url: str):\n",
    "    # Get request with url\n",
    "    r = requests.get(url)\n",
    "    logging.info(LoggingMessage.get_request_log.format(url))\n",
    "    logging.info(LoggingMessage.status_code_log.format(r.status_code))\n",
    "\n",
    "    # Check if request status is 200\n",
    "    if r.status_code == 200:\n",
    "        soup = BeautifulSoup(r.text, 'html.parser')\n",
    "    else:\n",
    "        raise requests.HTTPError('Status is not 200.')\n",
    "\n",
    "    # Find required script tag\n",
    "    script = soup.find('script', {'id': '__NEXT_DATA__'})\n",
    "\n",
    "    # Get json data from the script\n",
    "    if script:\n",
    "        data = script.text\n",
    "    else:\n",
    "        raise TypeError('Required script tag is not available.')\n",
    "\n",
    "    return dict(json.loads(data))['props']['pageProps']\n"
   ]
  },
  {
   "cell_type": "code",
   "execution_count": null,
   "metadata": {},
   "outputs": [],
   "source": [
    "url = get_url(course_name)\n",
    "\n",
    "live_course = get_live_course_dict(url)"
   ]
  },
  {
   "cell_type": "code",
   "execution_count": null,
   "metadata": {},
   "outputs": [],
   "source": [
    "live_course.keys()"
   ]
  },
  {
   "cell_type": "code",
   "execution_count": null,
   "metadata": {},
   "outputs": [],
   "source": [
    "# sections data\n",
    "live_course_section = live_course['sections']['sections']\n",
    "\n",
    "# lessons data\n",
    "live_course_lessons = live_course['sections']['lessonDetails']"
   ]
  },
  {
   "attachments": {},
   "cell_type": "markdown",
   "metadata": {},
   "source": [
    "# Import `sections` data\n"
   ]
  },
  {
   "cell_type": "code",
   "execution_count": null,
   "metadata": {},
   "outputs": [],
   "source": [
    "sections = pd.json_normalize(live_course_section, 'lessons', 'title')\n",
    "print(sections.shape)\n",
    "sections.head()"
   ]
  },
  {
   "attachments": {},
   "cell_type": "markdown",
   "metadata": {},
   "source": [
    "### Extract `dates` from `title`\n"
   ]
  },
  {
   "cell_type": "code",
   "execution_count": null,
   "metadata": {},
   "outputs": [],
   "source": [
    "# sections['date'] = (sections['title']\n",
    "#                     .str.extract(r\"(\\d{1,2}\\w{0,2} \\w{3}'23)\")\n",
    "#                     .astype('datetime64'))\n",
    "\n",
    "sections['date'] = pd.to_datetime((sections['title']\n",
    "                             .str.rsplit('23', n=1).str.get(0).add('23')\n",
    "                             .str.replace(r\"' 23|'23| ' 23\", ' 2023', regex=True)\n",
    "                             .str.replace(r'^(23)$', '', regex=True)\n",
    "                             .str.replace(r'^\\d{1,2} - ', '', regex=True)\n",
    "                             ), errors='coerce').bfill()"
   ]
  },
  {
   "attachments": {},
   "cell_type": "markdown",
   "metadata": {},
   "source": [
    "### Remove `dates` from `title`\n"
   ]
  },
  {
   "cell_type": "code",
   "execution_count": null,
   "metadata": {},
   "outputs": [],
   "source": [
    "sections['title'] = (sections['title']\n",
    "                     .apply(lambda x: str(x).rsplit('23', 1)[-1] if x else x)\n",
    "                     .str.strip())"
   ]
  },
  {
   "attachments": {},
   "cell_type": "markdown",
   "metadata": {},
   "source": [
    "### Rename columns\n"
   ]
  },
  {
   "cell_type": "code",
   "execution_count": null,
   "metadata": {},
   "outputs": [],
   "source": [
    "sections.rename(columns={0: '_id', 'title': 'sectionsTitle'}, inplace=True)"
   ]
  },
  {
   "cell_type": "code",
   "execution_count": null,
   "metadata": {},
   "outputs": [],
   "source": [
    "sections.head(28)"
   ]
  },
  {
   "attachments": {},
   "cell_type": "markdown",
   "metadata": {},
   "source": [
    "# Import `lessons` data\n"
   ]
  },
  {
   "cell_type": "code",
   "execution_count": null,
   "metadata": {},
   "outputs": [],
   "source": [
    "lessons = pd.DataFrame.from_dict(live_course_lessons)\n",
    "lessons.head()"
   ]
  },
  {
   "attachments": {},
   "cell_type": "markdown",
   "metadata": {},
   "source": [
    "### Extract video `duration` from `data` column."
   ]
  },
  {
   "cell_type": "code",
   "execution_count": null,
   "metadata": {},
   "outputs": [],
   "source": [
    "lessons['duration'] = lessons['data'].str.get('duration')  # type: ignore"
   ]
  },
  {
   "attachments": {},
   "cell_type": "markdown",
   "metadata": {},
   "source": [
    "### Extract assignments `maxPoints` from `data` column."
   ]
  },
  {
   "cell_type": "code",
   "execution_count": null,
   "metadata": {},
   "outputs": [],
   "source": [
    "lessons['totalPointsInAssignment'] = lessons['data'].str.get('maxPoints')  # type: ignore"
   ]
  },
  {
   "attachments": {},
   "cell_type": "markdown",
   "metadata": {},
   "source": [
    "### Extract sectionResource's `resourceURl` from `data` column."
   ]
  },
  {
   "cell_type": "code",
   "execution_count": null,
   "metadata": {},
   "outputs": [],
   "source": [
    "lessons['url'] = lessons['data'].str.get('resourceURL')  # type: ignore"
   ]
  },
  {
   "cell_type": "code",
   "execution_count": null,
   "metadata": {},
   "outputs": [],
   "source": [
    "lessons.info()"
   ]
  },
  {
   "attachments": {},
   "cell_type": "markdown",
   "metadata": {},
   "source": [
    "### Check `quizQuestions` column\n"
   ]
  },
  {
   "cell_type": "code",
   "execution_count": null,
   "metadata": {},
   "outputs": [],
   "source": [
    "no_of_na_vals = (lessons['quizQuestions']\n",
    "                 .apply(lambda x: np.nan if isinstance(x, list) and len(x) == 0 else x)\n",
    "                 .isnull().sum())\n",
    "\n",
    "print(f\"'quizQuestions' columns has {no_of_na_vals} null values out of {lessons.shape[0]} values.\")\n",
    "print('Thats why, need to drop it.')"
   ]
  },
  {
   "attachments": {},
   "cell_type": "markdown",
   "metadata": {},
   "source": [
    "### Drop Columns\n"
   ]
  },
  {
   "cell_type": "code",
   "execution_count": null,
   "metadata": {},
   "outputs": [],
   "source": [
    "lessons.drop(columns=['data', 'quizQuestions'], inplace=True)"
   ]
  },
  {
   "attachments": {},
   "cell_type": "markdown",
   "metadata": {},
   "source": [
    "### Rename columns\n"
   ]
  },
  {
   "cell_type": "code",
   "execution_count": null,
   "metadata": {},
   "outputs": [],
   "source": [
    "# Rename the title column to differentiate\n",
    "lessons.rename(columns={\n",
    "    'title': 'lessonsTitle'\n",
    "}, inplace=True)"
   ]
  },
  {
   "cell_type": "code",
   "execution_count": null,
   "metadata": {},
   "outputs": [],
   "source": [
    "lessons.info()"
   ]
  },
  {
   "attachments": {},
   "cell_type": "markdown",
   "metadata": {},
   "source": [
    "# Merge the datasets\n"
   ]
  },
  {
   "cell_type": "code",
   "execution_count": null,
   "metadata": {},
   "outputs": [],
   "source": [
    "df = sections.merge(lessons, on='_id', how='inner')\n",
    "print(df.shape)\n",
    "df.head()"
   ]
  },
  {
   "attachments": {},
   "cell_type": "markdown",
   "metadata": {},
   "source": [
    "# EDA ON DATA"
   ]
  },
  {
   "attachments": {},
   "cell_type": "markdown",
   "metadata": {},
   "source": [
    "### Count of different `type` in course\n"
   ]
  },
  {
   "cell_type": "code",
   "execution_count": null,
   "metadata": {},
   "outputs": [],
   "source": [
    "df['type'].value_counts()"
   ]
  },
  {
   "cell_type": "code",
   "execution_count": null,
   "metadata": {},
   "outputs": [],
   "source": [
    "# In percentage\n",
    "df['type'].value_counts(True).mul(100).round(1)"
   ]
  },
  {
   "cell_type": "code",
   "execution_count": null,
   "metadata": {},
   "outputs": [],
   "source": [
    "# In countplot\n",
    "sns.countplot(data=df, x='type')"
   ]
  },
  {
   "attachments": {},
   "cell_type": "markdown",
   "metadata": {},
   "source": [
    "### What is _sectionResource_?\n",
    "\n",
    "Initially, `sectionResource` contains the `resourceURL` for __Live classes, Doubt classes and Feedback form__.  \n",
    "But now, on **2 March, 2023** new `sectionResource` is added to the course as **Python Practice** and it contains the G-Drive URL of PDFs and Docs."
   ]
  },
  {
   "cell_type": "code",
   "execution_count": null,
   "metadata": {},
   "outputs": [],
   "source": [
    "sec_resource = df.query(\"type=='sectionResource'\")\n",
    "\n",
    "print(sec_resource.shape)\n",
    "sec_resource.tail()"
   ]
  },
  {
   "attachments": {},
   "cell_type": "markdown",
   "metadata": {},
   "source": [
    "### Live Course Duration"
   ]
  },
  {
   "cell_type": "code",
   "execution_count": null,
   "metadata": {},
   "outputs": [],
   "source": [
    "total_quiz_ques = df['totalQuestionsInQuiz'].sum()\n",
    "total_asgn_points = df['totalPointsInAssignment'].sum()\n",
    "total_video_duration = round(df['duration'].sum() / 3600, 2)\n",
    "\n",
    "print(f'No. of questions in Quiz = {int(total_quiz_ques)} questions.')\n",
    "print(f'Total assignments points = {int(total_asgn_points)} points.')\n",
    "print(f'Total duration of videos in Course = {total_video_duration} hours.')"
   ]
  },
  {
   "attachments": {},
   "cell_type": "markdown",
   "metadata": {},
   "source": [
    "### How many days has this course lasted so far?\n"
   ]
  },
  {
   "cell_type": "code",
   "execution_count": null,
   "metadata": {},
   "outputs": [],
   "source": [
    "max_date = df['date'].max()\n",
    "min_date = df['date'].min()\n",
    "\n",
    "print(f'For now the course has runs for {(max_date-min_date).days} days.')"
   ]
  },
  {
   "cell_type": "code",
   "execution_count": null,
   "metadata": {},
   "outputs": [],
   "source": [
    "print(f\"First update in course on {min_date:%d %h, %Y}.\")\n",
    "print(f\"Last update in course on {max_date:%d %h, %Y}.\")"
   ]
  },
  {
   "attachments": {},
   "cell_type": "markdown",
   "metadata": {},
   "source": [
    "### Most recent course Section and Lesson."
   ]
  },
  {
   "cell_type": "code",
   "execution_count": null,
   "metadata": {},
   "outputs": [],
   "source": [
    "most_recent_section = df.query('date==@max_date')['sectionsTitle'].values[0]\n",
    "most_recent_lesson = df.query('date==@max_date')['lessonsTitle'].values\n",
    "\n",
    "print(f\"Most recent course Section covered is {most_recent_section}.\")\n",
    "print(f\"Most recent course Lesson covered are {', '.join(most_recent_lesson)}.\")"
   ]
  },
  {
   "attachments": {},
   "cell_type": "markdown",
   "metadata": {},
   "source": [
    "### No. of Sections and Lessons covered"
   ]
  },
  {
   "cell_type": "code",
   "execution_count": null,
   "metadata": {},
   "outputs": [],
   "source": [
    "no_of_sections = df['sectionsTitle'].nunique()\n",
    "no_of_lessons = df['lessonsTitle'].nunique()\n",
    "\n",
    "print(f\"Till now, {no_of_sections} Sections covered in the course.\")\n",
    "print(f\"And, {no_of_lessons} Lessons.\")"
   ]
  },
  {
   "attachments": {},
   "cell_type": "markdown",
   "metadata": {},
   "source": [
    "# Make URLs\n",
    "\n",
    "> Sample URL for videos: `https://api.pwskills.com/v1/learn/lesson/video-session/63a2eb428899436daf7eb489/lesson/63fa15eb182c67f36e4b90dd`\n",
    "\n",
    "> Sample URL for Quiz and Assignment: `https://api.pwskills.com/v1/learn/lesson/course/63a2eb428899436daf7eb489/63fa2330182c6727c14b9189`\n"
   ]
  },
  {
   "attachments": {},
   "cell_type": "markdown",
   "metadata": {},
   "source": [
    "### Videos"
   ]
  },
  {
   "cell_type": "code",
   "execution_count": null,
   "metadata": {},
   "outputs": [],
   "source": [
    "# Base url for video\n",
    "base_vid_url = f'https://api.pwskills.com/v1/learn/lesson/video-session/{course_id}/lesson/'\n",
    "videos = df.query('type==\"video\"')\n",
    "\n",
    "df.loc[videos.index, 'url'] = base_vid_url + videos['_id']"
   ]
  },
  {
   "attachments": {},
   "cell_type": "markdown",
   "metadata": {},
   "source": [
    "### Quiz and Assignments"
   ]
  },
  {
   "cell_type": "code",
   "execution_count": null,
   "metadata": {},
   "outputs": [],
   "source": [
    "# Base url for Quiz and Assignment\n",
    "base_url = f'https://api.pwskills.com/v1/learn/lesson/course/{course_id}/'\n",
    "quizzes = df.query('type==\"quiz\"')\n",
    "\n",
    "df.loc[quizzes.index, 'url'] = base_url + quizzes['_id']"
   ]
  },
  {
   "cell_type": "code",
   "execution_count": null,
   "metadata": {},
   "outputs": [],
   "source": [
    "# Assignment url\n",
    "assignments = df.query('type==\"assignment\"')\n",
    "\n",
    "df.loc[assignments.index, 'url'] = base_url + assignments['_id']"
   ]
  },
  {
   "cell_type": "code",
   "execution_count": null,
   "metadata": {},
   "outputs": [],
   "source": [
    "df.info()"
   ]
  },
  {
   "cell_type": "code",
   "execution_count": null,
   "metadata": {},
   "outputs": [],
   "source": [
    "df[['sectionsTitle', 'lessonsTitle', 'type', 'duration']].sample(28)"
   ]
  },
  {
   "attachments": {},
   "cell_type": "markdown",
   "metadata": {},
   "source": [
    "# Export the dataset as CSV"
   ]
  },
  {
   "cell_type": "code",
   "execution_count": null,
   "metadata": {},
   "outputs": [],
   "source": [
    "# df.to_csv(f'../data/{course_id}.csv', index=False)"
   ]
  }
 ],
 "metadata": {
  "kernelspec": {
   "display_name": "Python 3",
   "language": "python",
   "name": "python3"
  },
  "language_info": {
   "codemirror_mode": {
    "name": "ipython",
    "version": 3
   },
   "file_extension": ".py",
   "mimetype": "text/x-python",
   "name": "python",
   "nbconvert_exporter": "python",
   "pygments_lexer": "ipython3",
   "version": "3.11.0"
  },
  "orig_nbformat": 4,
  "vscode": {
   "interpreter": {
    "hash": "aee8b7b246df8f9039afb4144a1f6fd8d2ca17a180786b69acc140d282b71a49"
   }
  }
 },
 "nbformat": 4,
 "nbformat_minor": 2
}
