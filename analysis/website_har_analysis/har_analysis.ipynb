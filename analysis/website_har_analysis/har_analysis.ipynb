{
 "cells": [
  {
   "cell_type": "code",
   "execution_count": 2,
   "metadata": {},
   "outputs": [],
   "source": [
    "import json"
   ]
  },
  {
   "cell_type": "code",
   "execution_count": 3,
   "metadata": {},
   "outputs": [],
   "source": [
    "har_path = '.../data/har/learn.pwskills.com_Archive [23-02-27 18-38-31] - QuizPage.har'\n",
    "har_path = '.../data/har/learn.pwskills.com_Archive [23-02-26 14-41-19].har'\n",
    "har_path = '.../data/har/learn.pwskills.com_Archive [23-02-28 20-46-43] - MainPage.har'\n",
    "\n",
    "data: list[dict]= json.load(open(har_path))['log']['entries']"
   ]
  },
  {
   "attachments": {},
   "cell_type": "markdown",
   "metadata": {},
   "source": [
    "# HAR files analysis\n",
    "\n",
    "## What are HAR files?\n",
    "\n",
    "▶️ **HAR** (HTTP Archive) is a file format used to store HTTP interaction data between a web browser and a web server. The data typically includes information such as HTTP requests, responses, headers, timings, and more.\n",
    "\n",
    "▶️ **HAR** files are commonly used for debugging and analyzing web performance issues, as they provide detailed insights into the various network requests made by a webpage and their corresponding timings.\n",
    "\n",
    "▶️ They can also be used for security auditing and testing, as they can reveal potential security vulnerabilities and sensitive information leakage."
   ]
  },
  {
   "cell_type": "code",
   "execution_count": 4,
   "metadata": {},
   "outputs": [
    {
     "name": "stdout",
     "output_type": "stream",
     "text": [
      "https://api.pwskills.com/v1/learn/user/isCourseBought/63a2eb428899436daf7eb489\n",
      "https://api.pwskills.com/v1/auth/profile\n",
      "https://api.pwskills.com/v1/learn/section/currentLiveClass/course/63a2eb428899436daf7eb489\n",
      "https://api.pwskills.com/v1/course/63a2eb428899436daf7eb489?withAllCourseMetas=true&ignoreInActive=true\n",
      "https://api.pwskills.com/v1/learn/submission/63a2eb428899436daf7eb489\n",
      "https://api.pwskills.com/v1/learn/lesson/course/63a2eb428899436daf7eb489/63fb5e2d182c674c454b9aa8\n",
      "https://api.pwskills.com/v1/learn/lesson/video-session/63a2eb428899436daf7eb489/lesson/63fb5e2d182c674c454b9aa8\n",
      "https://api.pwskills.com/v1/learn/analytics/progress/course/63a2eb428899436daf7eb489\n",
      "https://api.pwskills.com/v1/learn/lesson/course/63a2eb428899436daf7eb489/63fb7e48182c67a2a64b9b0a\n"
     ]
    }
   ],
   "source": [
    "api_bindings_set = set()\n",
    "api_bindings_list = list()\n",
    "\n",
    "for i in data:\n",
    "    if 'pwskills' in  (url := i['request']['url']) and i['request']['method'] == 'GET':\n",
    "        if 'application/json' in i['request']['headers'][2]['value']:\n",
    "            api_bindings_set.update(url[8:].split('/'))\n",
    "            api_bindings_list.append(url[8:].split('/'))\n",
    "            print(url)\n"
   ]
  },
  {
   "attachments": {},
   "cell_type": "markdown",
   "metadata": {},
   "source": [
    "## Conclusion 1\n",
    "\n",
    "1. All the URLs have `'https://api.pwskills.com/v1/'`. It is like root/base URL for the api requests.\n",
    "\n",
    "    ```json\n",
    "    // https://api.pwskills.com/v1?all=true\n",
    "\n",
    "    {\n",
    "      \"env\": \"production\",\n",
    "      \"instance\": \"0.8391243622921039\",\n",
    "      \"version\": \"1.83.4\",\n",
    "      \"all\": {\n",
    "        \"totalmem\": 32.823218176,\n",
    "        \"freemem\": 29.265063936\n",
    "      }\n",
    "    }\n",
    "    ```\n",
    "\n",
    "2. All the above URLs are `authorized`. These URL's respone are take using `cURL` command by providing the header `Authorization`.  \n",
    "_Authorization requires a Bearer._\n",
    "\n",
    "    ```json\n",
    "    { \"error\": \"Unauthorized\" }\n",
    "    ```\n",
    "\n",
    "3. [URL](https://api.pwskills.com/v1/course/63a2eb428899436daf7eb489?withAllCourseMetas=true&ignoreInActive=true) is public to use, it doesn't require any authorization for GET request.  \n",
    "This gives all the data related to the specified course. _Courses are identify using its Course ID_.  \n",
    "\n",
    "> Data Science Masters Course ID: `63a2eb428899436daf7eb489`\n"
   ]
  },
  {
   "attachments": {},
   "cell_type": "markdown",
   "metadata": {},
   "source": [
    "# Authorized URLs"
   ]
  },
  {
   "attachments": {},
   "cell_type": "markdown",
   "metadata": {},
   "source": [
    "A fuction which takes `Request Headers` and takes `list[dict]` as argument and `return bool` if it has Authorization in it."
   ]
  },
  {
   "cell_type": "code",
   "execution_count": 18,
   "metadata": {},
   "outputs": [],
   "source": [
    "def check_auth_request(headers: list[dict]) -> bool:\n",
    "    for head in headers:\n",
    "        if 'Authorization' in head.values():\n",
    "            return True\n",
    "    return False"
   ]
  },
  {
   "cell_type": "code",
   "execution_count": 19,
   "metadata": {},
   "outputs": [
    {
     "name": "stdout",
     "output_type": "stream",
     "text": [
      "https://api.pwskills.com/v1/learn/analytics/lastPlayed/course/63a2eb428899436daf7eb489\n",
      "https://api.pwskills.com/v1/auth/profile\n",
      "https://api.pwskills.com/v1/learn/user/isCourseBought/63a2eb428899436daf7eb489\n",
      "https://api.pwskills.com/v1/learn/section/currentLiveClass/course/63a2eb428899436daf7eb489\n",
      "https://api.pwskills.com/v1/learn/submission/63a2eb428899436daf7eb489\n",
      "https://api.pwskills.com/v1/learn/lesson/video-session/63a2eb428899436daf7eb489/lesson/63fa15eb182c67f36e4b90dd\n",
      "https://api.pwskills.com/v1/learn/lesson/course/63a2eb428899436daf7eb489/63fa15eb182c67f36e4b90dd\n",
      "https://api.pwskills.com/v1/course/63a2eb428899436daf7eb489?withAllCourseMetas=true&ignoreInActive=true\n",
      "https://api.pwskills.com/v1/learn/analytics/progress/course/63a2eb428899436daf7eb489\n",
      "https://api.pwskills.com/v1/learn/user/recentlyAccessedCourses\n"
     ]
    }
   ],
   "source": [
    "for i in data:\n",
    "    if 'pwskills' in  (url := i['request']['url']):\n",
    "        if check_auth_request(i['request']['headers']):\n",
    "            print(url)"
   ]
  },
  {
   "attachments": {},
   "cell_type": "markdown",
   "metadata": {},
   "source": [
    "## How to get the quizes data.\n",
    "\n",
    "1. You can get it by using `cURL` command and by providing `Authorization` request header.\n",
    "2. Try to create a session using `requests` library and scrape the data.\n",
    "3. Web scrapping using selenium.\n",
    "\n",
    "### Problems for fetching the data <small><sub>respectively</sub></small>\n",
    "\n",
    "1. The `Authorization` IDs are changes for every request.\n",
    "2. If use `requests` library for Session State you have to login with `Google`. Means you cannot provide __payload__ of _email and password_.\n",
    "3. Same goes with `Selenium` method. It also require the Google SignIn part to get into the website.\n",
    "\n",
    "> Also this applies to all the _Authorized URLs_."
   ]
  },
  {
   "attachments": {},
   "cell_type": "markdown",
   "metadata": {},
   "source": [
    "# URL Analysis\n",
    "\n",
    "## Web Surfline\n",
    "\n",
    "```mermaid\n",
    "flowchart\n",
    "    home{Home Page}\n",
    "    video{{Watch Course Video}}\n",
    "    quiz[Quiz]\n",
    "    hw[Assignment Panel]\n",
    "    analytics[Course Aanalytics]\n",
    "\n",
    "    home --> |Not Important for analysis| video\n",
    "    home --> |OWN or ALL| analytics\n",
    "    home --> |NOT Solution & Submission| quiz\n",
    "    home --> |For URL of PDF| hw\n",
    "```"
   ]
  },
  {
   "attachments": {},
   "cell_type": "markdown",
   "metadata": {},
   "source": [
    "## URL Assembly\n",
    "\n",
    "1. Home Page\n",
    "   - Require proper SignIn from browser.\n",
    "   - https://learn.pwskills.com/lesson/Working-with-MongoDB/63ef8452ff4766650ddc4e5d/course/Data-Science-masters/63a2eb428899436daf7eb489\n",
    "   - https://learn.pwskills.com/course/Data-Science-masters/63a2eb428899436daf7eb489\n",
    "2. Videos - Skip\n",
    "3. Analytics\n",
    "   1. Using `requests` module you can get **all** analytics.\n",
    "      - https://learn.pwskills.com/course-analytics/Data-Science-masters/63a2eb428899436daf7eb489\n",
    "   2. Get your own analytics using `cURL` command.\n",
    "      - https://api.pwskills.com/v1/learn/analytics/progress/course/63a2eb428899436daf7eb489\n",
    "   3. Get you submission data using `cURL` command. Also, Submission data is fetches by the Home page too.\n",
    "      - https://api.pwskills.com/v1/learn/submission/63a2eb428899436daf7eb489\n",
    "4. Quiz\n",
    "   1. Get a particular Quiz data. If qiuz is submitted, marks details includes in the response data.\n",
    "      - https://api.pwskills.com/v1/learn/lesson/course/63a2eb428899436daf7eb489/63fa2330182c6727c14b9189\n",
    "5. Assignment\n",
    "   1. Get a particular Assignment data. If qiuz is submitted, marks details includes in the response data.\n",
    "      - https://api.pwskills.com/v1/learn/lesson/course/63a2eb428899436daf7eb489/63fa1682182c67aa884b90ef\n"
   ]
  },
  {
   "cell_type": "code",
   "execution_count": null,
   "metadata": {},
   "outputs": [],
   "source": []
  }
 ],
 "metadata": {
  "kernelspec": {
   "display_name": "Python 3",
   "language": "python",
   "name": "python3"
  },
  "language_info": {
   "codemirror_mode": {
    "name": "ipython",
    "version": 3
   },
   "file_extension": ".py",
   "mimetype": "text/x-python",
   "name": "python",
   "nbconvert_exporter": "python",
   "pygments_lexer": "ipython3",
   "version": "3.11.0"
  },
  "orig_nbformat": 4,
  "vscode": {
   "interpreter": {
    "hash": "aee8b7b246df8f9039afb4144a1f6fd8d2ca17a180786b69acc140d282b71a49"
   }
  }
 },
 "nbformat": 4,
 "nbformat_minor": 2
}
